{
  "cells": [
    {
      "cell_type": "code",
      "execution_count": null,
      "metadata": {},
      "outputs": [],
      "source": [
        "%cd .."
      ]
    },
    {
      "cell_type": "code",
      "execution_count": null,
      "metadata": {},
      "outputs": [],
      "source": [
        "import matplotlib.pyplot as plt\n",
        "import pandas as pd\n",
        "import seaborn as sns\n",
        "\n",
        "from src.settings import PATH_LABELED"
      ]
    },
    {
      "cell_type": "markdown",
      "metadata": {},
      "source": [
        "# 6 - Exploratory Data Analysis - Labels\n",
        "\n",
        "In this notebook, we perform exploratory data analysis (EDA) on the labels assigned to a set of text documents. Since this is a multilabel classification problem, each document can have multiple labels, making it important to understand the distribution and co-occurrence of labels in the dataset.\n",
        "\n",
        "Analyzing label distributions helps us identify:\n",
        "\n",
        "- The most and least common labels, providing insights into dataset balance.\n",
        "- Potential imbalances, which can impact model performance.\n",
        "- How often labels appear together, revealing relationships between topics.\n",
        "\n",
        "By visualizing and summarizing these distributions, we gain a better understanding of the dataset before applying machine learning techniques.\n",
        "\n",
        "### Objectives\n",
        "- Examine label frequency: Identify common and rare labels.\n",
        "- Analyze multilabel distributions: Understand how many labels each document has.\n",
        "- Explore label co-occurrence: Detect patterns in how labels appear together."
      ]
    },
    {
      "cell_type": "markdown",
      "metadata": {},
      "source": [
        "## Load Data"
      ]
    },
    {
      "cell_type": "code",
      "execution_count": null,
      "metadata": {},
      "outputs": [],
      "source": [
        "DEPARTMENT = \"CS\" # \"CS\" or \"PS\"\n",
        "\n",
        "df_test = pd.read_csv(f\"{PATH_LABELED}/labeled_train_{DEPARTMENT}.csv\")\n",
        "df_train = pd.read_csv(f\"{PATH_LABELED}/labeled_test_{DEPARTMENT}.csv\")\n",
        "df = pd.concat([df_train, df_test])\n",
        "df.info()"
      ]
    },
    {
      "cell_type": "markdown",
      "metadata": {},
      "source": [
        "We'll create an exploded version of the dataset here as well. It will contain one row per label, instead of one row per call."
      ]
    },
    {
      "cell_type": "code",
      "execution_count": null,
      "metadata": {},
      "outputs": [],
      "source": [
        "df_labels = df.copy()\n",
        "\n",
        "df_labels[\"label\"] = df_labels[\"label\"].apply(\n",
        "    lambda x: [x for x in x.split(\",\")]\n",
        ")\n",
        "df_labels = df_labels.explode(\"label\")\n",
        "df_labels.info()"
      ]
    },
    {
      "cell_type": "markdown",
      "metadata": {},
      "source": [
        "## Label Frequency\n",
        "Let's first have a look at how often each label occurs. Since it's a multilabel problem, this will show more labels than calls."
      ]
    },
    {
      "cell_type": "code",
      "execution_count": null,
      "metadata": {},
      "outputs": [],
      "source": [
        "df_temp = df_labels.copy()\n",
        "df_temp = df_temp.groupby(\"label\").size().reset_index(name=\"count\")\n",
        "df_temp = df_temp.sort_values(\"count\", ascending=False) \n",
        "\n",
        "# Plot\n",
        "plt.figure(figsize=(10, 12))\n",
        "sns.barplot(x='count', y='label', data=df_temp, palette=[\"black\"]*len(df_labels[\"label\"].unique()))\n",
        "\n",
        "# Formatting\n",
        "plt.xlabel('Labels')\n",
        "plt.ylabel('Frequency')\n",
        "plt.title('Label Distribution in the Dataset')\n",
        "plt.show()"
      ]
    },
    {
      "cell_type": "markdown",
      "metadata": {},
      "source": [
        "Let's do top-10 only"
      ]
    },
    {
      "cell_type": "code",
      "execution_count": null,
      "metadata": {},
      "outputs": [],
      "source": [
        "df_temp = df_labels.copy()\n",
        "df_temp = df_temp.groupby(\"label\").size().reset_index(name=\"count\")\n",
        "# Calculate percentage\n",
        "total = df_temp[\"count\"].sum()\n",
        "df_temp = df_temp.sort_values(\"count\", ascending=False)[:10]\n",
        "\n",
        "\n",
        "df_temp[\"percent\"] = df_temp[\"count\"] / total * 100\n",
        "\n",
        "# Plot\n",
        "plt.figure(figsize=(12, 8))\n",
        "ax = sns.barplot(x='count', y='label', data=df_temp, palette=[\"black\"]*len(df_temp))\n",
        "\n",
        "# Annotate bars\n",
        "for i, (count, percent) in enumerate(zip(df_temp[\"count\"], df_temp[\"percent\"])):\n",
        "    ax.text(count / 2, i, f\"{percent:.1f}%\", color=\"white\", ha='center', va='center', fontsize=12)\n",
        "\n",
        "# Formatting\n",
        "plt.xlabel('Frequency', fontsize=10)\n",
        "plt.ylabel('Labels', fontsize=10)\n",
        "plt.xticks(fontsize=12)\n",
        "plt.yticks(fontsize=12)\n",
        "plt.title('Label Distribution in the Dataset')\n",
        "plt.tight_layout()\n",
        "plt.show()"
      ]
    },
    {
      "cell_type": "code",
      "execution_count": null,
      "metadata": {},
      "outputs": [],
      "source": [
        "df_temp[\"percent\"].sum()"
      ]
    },
    {
      "cell_type": "markdown",
      "metadata": {},
      "source": [
        "## Multilabel Distribution\n",
        "\n",
        "Here we'll examine how many labels calls have."
      ]
    },
    {
      "cell_type": "code",
      "execution_count": null,
      "metadata": {},
      "outputs": [],
      "source": [
        "df_temp = df.copy()\n",
        "df_temp[\"label_count\"] = df_temp[\"label\"].apply(\n",
        "    lambda x: len(x.split(\",\"))\n",
        ") \n",
        "\n",
        "df_temp.label_count.value_counts(normalize=True) * 100"
      ]
    },
    {
      "cell_type": "markdown",
      "metadata": {},
      "source": [
        "## Label Co-occurrence\n",
        "\n",
        "Let's have a look here at the top-20 most occurring label combinations."
      ]
    },
    {
      "cell_type": "code",
      "execution_count": null,
      "metadata": {},
      "outputs": [],
      "source": [
        "df_temp = df.copy()\n",
        "df_temp = df_temp[df_temp[\"label\"].str.contains(\",\")]\n",
        "df_temp[\"label_combination\"] = df_temp[\"label\"].apply(\n",
        "    lambda x: [x for x in x.split(\",\")]\n",
        ")\n",
        "df_temp.label_combination.value_counts()[:20]"
      ]
    }
  ],
  "metadata": {
    "kernelspec": {
      "display_name": "Embeddings (Python 3.12)",
      "language": "python",
      "name": "embeddings_env"
    },
    "language_info": {
      "codemirror_mode": {
        "name": "ipython",
        "version": 3
      },
      "file_extension": ".py",
      "mimetype": "text/x-python",
      "name": "python",
      "nbconvert_exporter": "python",
      "pygments_lexer": "ipython3",
      "version": "3.12.4"
    }
  },
  "nbformat": 4,
  "nbformat_minor": 2
}
