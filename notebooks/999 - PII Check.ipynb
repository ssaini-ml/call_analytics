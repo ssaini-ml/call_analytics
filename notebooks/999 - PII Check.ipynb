{
  "cells": [
    {
      "cell_type": "code",
      "execution_count": null,
      "metadata": {},
      "outputs": [],
      "source": [
        "%cd .."
      ]
    },
    {
      "cell_type": "code",
      "execution_count": null,
      "metadata": {},
      "outputs": [],
      "source": [
        "import nest_asyncio\n",
        "import pandas as pd\n",
        "\n",
        "from src.pii_utility import authenticate_pii_client, redact_pii_with_batches"
      ]
    },
    {
      "cell_type": "markdown",
      "metadata": {},
      "source": [
        "# 1 - PII Check"
      ]
    },
    {
      "cell_type": "markdown",
      "metadata": {},
      "source": [
        "## Load data"
      ]
    },
    {
      "cell_type": "code",
      "execution_count": null,
      "metadata": {},
      "outputs": [],
      "source": [
        "data = pd.read_csv(\"data/pii test/ITOP-11532.csv\", encoding=\"utf-8\")\n",
        "data.replace({pd.NA: \"EMPTY\"}, inplace=True)\n",
        "data.info()"
      ]
    },
    {
      "cell_type": "code",
      "execution_count": null,
      "metadata": {},
      "outputs": [],
      "source": [
        "LANGUAGE_MAP = {\n",
        "    (\"pb\", \"139\"): \"it\",\n",
        "    (\"pb\", \"140\"): \"de\",\n",
        "    (\"pb\", \"540\"): \"de\",\n",
        "    (\"pb_kosmeti\", \"140\"): \"de\",\n",
        "    (\"pb_kosmeti\", \"540\"): \"de\",\n",
        "    (\"pb-nem\", \"140\"): \"de\",\n",
        "    (\"pb-nem\", \"540\"): \"de\",\n",
        "    (\"pb at\", \"140\"): \"de\",\n",
        "    (\"pb at\", \"540\"): \"de\",\n",
        "    (\"pb_ch_de\", \"140\"): \"de\",\n",
        "    (\"pb_ch_de\", \"540\"): \"de\",\n",
        "    (\"the bee\", \"140\"): \"de\",\n",
        "    (\"the bee\", \"540\"): \"de\",\n",
        "    (\"pb-nl\", \"141\"): \"nl\",\n",
        "    (\"pb_ch_fr\", \"140\"): \"fr\",\n",
        "    (\"fr_pb\", \"140\"): \"fr\",\n",
        "    (\"pb-fr\", \"141\"): \"fr\"\n",
        "}"
      ]
    },
    {
      "cell_type": "code",
      "execution_count": null,
      "metadata": {},
      "outputs": [],
      "source": [
        "data[\"language\"] = data.apply(lambda x: LANGUAGE_MAP.get((x[\"warteschlang\"], str(x[\"mandant\"])), \"de\"), axis=1)\n",
        "data[\"language\"].value_counts()"
      ]
    },
    {
      "cell_type": "code",
      "execution_count": null,
      "metadata": {},
      "outputs": [],
      "source": [
        "data_de = data[data[\"language\"] == \"de\"]\n",
        "data_fr = data[data[\"language\"] == \"fr\"]\n",
        "data_it = data[data[\"language\"] == \"it\"]\n",
        "data_nl = data[data[\"language\"] == \"nl\"]"
      ]
    },
    {
      "cell_type": "markdown",
      "metadata": {},
      "source": [
        "### Redact PII\n",
        "Now we redact summaries, topics, and transcriptions. Sentiments will never include PII."
      ]
    },
    {
      "cell_type": "code",
      "execution_count": null,
      "metadata": {},
      "outputs": [],
      "source": [
        "nest_asyncio.apply() # Required for running async functions in Jupyter notebooks\n",
        "\n",
        "# German\n",
        "client = await authenticate_pii_client()\n",
        "subject_de = await redact_pii_with_batches(client, data_de.mail_subject, \"de\")\n",
        "data_de[\"mail_subject_pii\"] = subject_de\n",
        "\n",
        "client = await authenticate_pii_client()\n",
        "content_de = await redact_pii_with_batches(client, data_de.mail_content, \"de\")\n",
        "data_de[\"mail_content_pii\"] = content_de\n",
        "\n",
        "# French\n",
        "client = await authenticate_pii_client()\n",
        "subject_fr = await redact_pii_with_batches(client, data_fr.mail_subject, \"fr\")\n",
        "data_fr[\"mail_subject_pii\"] = subject_fr\n",
        "\n",
        "client = await authenticate_pii_client()\n",
        "content_fr = await redact_pii_with_batches(client, data_fr.mail_content, \"fr\")\n",
        "data_fr[\"mail_content_pii\"] = content_fr\n",
        "\n",
        "# Italian\n",
        "client = await authenticate_pii_client()\n",
        "subject_it = await redact_pii_with_batches(client, data_it.mail_subject, \"it\")\n",
        "data_it[\"mail_subject_pii\"] = subject_it\n",
        "\n",
        "client = await authenticate_pii_client()\n",
        "content_it = await redact_pii_with_batches(client, data_it.mail_content, \"it\")\n",
        "data_it[\"mail_content_pii\"] = content_it\n",
        "\n",
        "# Dutch\n",
        "client = await authenticate_pii_client()\n",
        "subject_nl = await redact_pii_with_batches(client, data_nl.mail_subject, \"nl\")\n",
        "data_nl[\"mail_subject_pii\"] = subject_nl\n",
        "\n",
        "client = await authenticate_pii_client()\n",
        "content_nl = await redact_pii_with_batches(client, data_nl.mail_content, \"nl\")\n",
        "data_nl[\"mail_content_pii\"] = content_nl"
      ]
    },
    {
      "cell_type": "code",
      "execution_count": null,
      "metadata": {},
      "outputs": [],
      "source": [
        "data_out = pd.concat([data_de, data_fr, data_it, data_nl])\n",
        "data_out.info()"
      ]
    },
    {
      "cell_type": "markdown",
      "metadata": {},
      "source": [
        "Let's store the DataFrame in csv format."
      ]
    },
    {
      "cell_type": "code",
      "execution_count": null,
      "metadata": {},
      "outputs": [],
      "source": [
        "data_out.to_csv(\n",
        "    \"data/pii test/ITOP-11532_out.csv\",\n",
        "    index=False,\n",
        "    encoding=\"utf-8\",\n",
        ")"
      ]
    }
  ],
  "metadata": {
    "kernelspec": {
      "display_name": "Embeddings (Python 3.12)",
      "language": "python",
      "name": "embeddings_env"
    },
    "language_info": {
      "codemirror_mode": {
        "name": "ipython",
        "version": 3
      },
      "file_extension": ".py",
      "mimetype": "text/x-python",
      "name": "python",
      "nbconvert_exporter": "python",
      "pygments_lexer": "ipython3",
      "version": "3.12.4"
    }
  },
  "nbformat": 4,
  "nbformat_minor": 2
}
