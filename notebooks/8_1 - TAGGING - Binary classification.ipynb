{
  "cells": [
    {
      "cell_type": "code",
      "execution_count": 1,
      "metadata": {},
      "outputs": [
        {
          "name": "stdout",
          "output_type": "stream",
          "text": [
            "c:\\Workspace\\Projects\\Redcare\\poc-call-analytics\n"
          ]
        },
        {
          "name": "stderr",
          "output_type": "stream",
          "text": [
            "c:\\Workspace\\Projects\\Redcare\\call_analytics\\.venv\\Lib\\site-packages\\IPython\\core\\magics\\osm.py:417: UserWarning: This is now an optional IPython functionality, setting dhist requires you to install the `pickleshare` library.\n",
            "  self.shell.db['dhist'] = compress_dhist(dhist)[-100:]\n"
          ]
        }
      ],
      "source": [
        "%cd .."
      ]
    },
    {
      "cell_type": "code",
      "execution_count": 2,
      "metadata": {},
      "outputs": [],
      "source": [
        "import math\n",
        "\n",
        "import matplotlib.pyplot as plt\n",
        "import numpy as np\n",
        "import pandas as pd\n",
        "import seaborn as sns\n",
        "from sklearn.ensemble import RandomForestClassifier\n",
        "from sklearn.linear_model import LogisticRegression\n",
        "from sklearn.metrics import (\n",
        "    accuracy_score,\n",
        "    confusion_matrix,\n",
        "    f1_score,\n",
        "    make_scorer,\n",
        "    precision_score,\n",
        "    recall_score,\n",
        ")\n",
        "from sklearn.naive_bayes import ComplementNB\n",
        "from sklearn.model_selection import GridSearchCV, KFold\n",
        "from sklearn.neural_network import MLPClassifier\n",
        "from sklearn.preprocessing import MinMaxScaler\n",
        "from sklearn.svm import SVC\n",
        "\n",
        "from src.settings import PATH_LABELED, PATH_OPENAI_EMBEDDINGS, RANDOM_STATE"
      ]
    },
    {
      "cell_type": "markdown",
      "metadata": {},
      "source": [
        "# 8_1 - Tagging"
      ]
    },
    {
      "cell_type": "code",
      "execution_count": 3,
      "metadata": {},
      "outputs": [],
      "source": [
        "DEPARTMENT = \"PS\" # \"CS\" or \"PS\"\n",
        "FEATURE = \"summary_customer_only\" # \"transcription\", \"summary\", \"topics\", \"transcription_customer_only\", \"summary_customer_only\"\n",
        "LABEL = \"Informational/Safety/Interaction effects\"\n",
        "# Options are (top-10 most common that are not \"/Other\") - CS:\n",
        "# Support/Order & Delivery/Didn't receive order (yet)\n",
        "# Transactional/Order & Delivery/Place order\n",
        "# Informational/Prescription\n",
        "# Support/Order & Delivery/Didn't receive everything they ordered\n",
        "# Informational/Order & Delivery/What is the status of my order?\n",
        "# Support/Payment & Discount/(Final) payment reminder\n",
        "# Transactional/Order & Delivery/Update order\n",
        "# Informational/Refund & Return/What is the status of my refund?\n",
        "# Support/Order & Delivery/Received wrong item(s)\n",
        "# Support/Payment & Discount/Can't pay\n",
        "\n",
        "# Options are (top-5 most common that are not \"/Other\" or broad) - PS:\n",
        "# Informational/Pharmaceutical Advice/Recommendation\n",
        "# Informational/Product/Availability/Do you have this product in stock?\n",
        "# Informational/Product/Usage\n",
        "# Informational/Product/Availability/Do you have a product like this in your range?\n",
        "# Informational/Safety/Interaction effects\n",
        "\n",
        "\n",
        "OTHER_DEPARTMENT = \"PS\" if DEPARTMENT == \"CS\" else \"CS\"\n",
        "\n",
        "if DEPARTMENT == \"CS\":\n",
        "    FILE_PREFIX = \"20250113_20250212_CS_\"\n",
        "    FILE_PREFIX_OTHER = \"20250101_20250224_PS_\"\n",
        "elif DEPARTMENT == \"PS\":\n",
        "    FILE_PREFIX = \"20250101_20250224_PS_\"\n",
        "    FILE_PREFIX_OTHER = \"20250113_20250212_CS_\""
      ]
    },
    {
      "cell_type": "markdown",
      "metadata": {},
      "source": [
        "## Load Data"
      ]
    },
    {
      "cell_type": "code",
      "execution_count": 4,
      "metadata": {},
      "outputs": [],
      "source": [
        "df_labeled_train = pd.read_csv(f\"{PATH_LABELED}/labeled_train_{DEPARTMENT}.csv\")\n",
        "df_labeled_test = pd.read_csv(f\"{PATH_LABELED}/labeled_test_{DEPARTMENT}.csv\")\n",
        "if FEATURE in [\"transcription\", \"summary\", \"topics\"]:\n",
        "    df_embeddings = pd.read_csv(f\"{PATH_OPENAI_EMBEDDINGS}/{FILE_PREFIX}{FEATURE}_embeddings_text-embedding-3-large.csv\")\n",
        "else:\n",
        "    df_embeddings = pd.read_csv(f\"{PATH_OPENAI_EMBEDDINGS}/{FILE_PREFIX}addedfeatures_{FEATURE}_embeddings_text-embedding-3-large.csv\")"
      ]
    },
    {
      "cell_type": "code",
      "execution_count": 5,
      "metadata": {},
      "outputs": [
        {
          "name": "stdout",
          "output_type": "stream",
          "text": [
            "Number of rows in embeddings: 828\n",
            "Number of rows in embeddings after dropping unlabeled IDs: 828\n"
          ]
        }
      ],
      "source": [
        "print(f\"Number of rows in embeddings: {df_labeled_train.shape[0]}\")\n",
        "\n",
        "# Since something could have gone wrong in preprocessing, we will only keep the embeddings that are in the labeled data\n",
        "df_labeled_train = df_labeled_train.merge(df_embeddings, on=\"id\", how=\"inner\")\n",
        "\n",
        "print(f\"Number of rows in embeddings after dropping unlabeled IDs: {df_labeled_train.shape[0]}\")"
      ]
    },
    {
      "cell_type": "code",
      "execution_count": 6,
      "metadata": {},
      "outputs": [
        {
          "name": "stdout",
          "output_type": "stream",
          "text": [
            "Number of rows in embeddings: 208\n",
            "Number of rows in embeddings after dropping unlabeled IDs: 208\n"
          ]
        }
      ],
      "source": [
        "print(f\"Number of rows in embeddings: {df_labeled_test.shape[0]}\")\n",
        "\n",
        "# Since something could have gone wrong in preprocessing, we will only keep the embeddings that are in the labeled data\n",
        "df_labeled_test = df_labeled_test.merge(df_embeddings, on=\"id\", how=\"inner\")\n",
        "\n",
        "print(f\"Number of rows in embeddings after dropping unlabeled IDs: {df_labeled_test.shape[0]}\")"
      ]
    },
    {
      "cell_type": "markdown",
      "metadata": {},
      "source": [
        "## Label Binarization"
      ]
    },
    {
      "cell_type": "code",
      "execution_count": 7,
      "metadata": {},
      "outputs": [
        {
          "name": "stdout",
          "output_type": "stream",
          "text": [
            "Number of calls in train with 'Informational/Safety/Interaction effects' in labels: 50\n"
          ]
        }
      ],
      "source": [
        "df_check = df_labeled_train.copy()\n",
        "df_check[\"label\"] = df_check[\"label\"].apply(\n",
        "    lambda x: [x for x in x.split(\",\")]\n",
        ")\n",
        "df_check = df_check.explode(\"label\")\n",
        "print(f\"Number of calls in train with \\'{LABEL}\\' in labels: {df_check.label.value_counts()[LABEL]}\")"
      ]
    },
    {
      "cell_type": "code",
      "execution_count": 8,
      "metadata": {},
      "outputs": [
        {
          "data": {
            "text/plain": [
              "Informational/Safety/Interaction effects\n",
              "0    778\n",
              "1     50\n",
              "Name: count, dtype: int64"
            ]
          },
          "execution_count": 8,
          "metadata": {},
          "output_type": "execute_result"
        }
      ],
      "source": [
        "if LABEL == \"Support/Order & Delivery/Didn't receive order (yet)\":\n",
        "    df_labeled_train[LABEL] = df_labeled_train[\"label\"].apply(lambda x: 1 if LABEL in x or \"Informational/Order & Delivery/What is the status of my order?\" in x else 0)\n",
        "elif LABEL == \"Informational/Product/Availability/Do you have this product in stock?\":\n",
        "    df_labeled_train[LABEL] = df_labeled_train[\"label\"].apply(lambda x: 1 if LABEL in x or \"Informational/Product/Availability/Do you have a product like this in your range?\" in x else 0)\n",
        "else:\n",
        "    df_labeled_train[LABEL] = df_labeled_train[\"label\"].apply(lambda x: 1 if LABEL in x else 0)\n",
        "df_labeled_train[LABEL] = df_labeled_train[LABEL].astype(int)\n",
        "df_labeled_train[LABEL].value_counts()"
      ]
    },
    {
      "cell_type": "code",
      "execution_count": 9,
      "metadata": {},
      "outputs": [
        {
          "data": {
            "text/plain": [
              "Informational/Safety/Interaction effects\n",
              "0    195\n",
              "1     13\n",
              "Name: count, dtype: int64"
            ]
          },
          "execution_count": 9,
          "metadata": {},
          "output_type": "execute_result"
        }
      ],
      "source": [
        "if LABEL == \"Support/Order & Delivery/Didn't receive order (yet)\":\n",
        "    df_labeled_test[LABEL] = df_labeled_test[\"label\"].apply(lambda x: 1 if LABEL in x or \"Informational/Order & Delivery/What is the status of my order?\" in x else 0)\n",
        "elif LABEL == \"Informational/Product/Availability/Do you have this product in stock?\":\n",
        "    df_labeled_test[LABEL] = df_labeled_test[\"label\"].apply(lambda x: 1 if LABEL in x or \"Informational/Product/Availability/Do you have a product like this in your range?\" in x else 0)\n",
        "else:\n",
        "    df_labeled_test[LABEL] = df_labeled_test[\"label\"].apply(lambda x: 1 if LABEL in x else 0)\n",
        "df_labeled_test[LABEL] = df_labeled_test[LABEL].astype(int)\n",
        "df_labeled_test[LABEL].value_counts()"
      ]
    },
    {
      "cell_type": "markdown",
      "metadata": {},
      "source": [
        "## Balancing Training Data\n",
        "\n",
        "Not going for completely balanced here, but for more balanced. Taking the closest integer ratio, but limiting this at 1 pos : 19 neg."
      ]
    },
    {
      "cell_type": "code",
      "execution_count": 10,
      "metadata": {},
      "outputs": [
        {
          "name": "stdout",
          "output_type": "stream",
          "text": [
            "Number of positive samples in train: 50\n",
            "Number of negative samples in train: 200\n",
            "Number of samples in y train: 250\n"
          ]
        }
      ],
      "source": [
        "X_train_pos = df_labeled_train[df_labeled_train[LABEL] == 1]\n",
        "print(f\"Number of positive samples in train: {X_train_pos.shape[0]}\")\n",
        "ratio = min([4, math.floor(df_labeled_train.shape[0] / X_train_pos.shape[0])-1])\n",
        "X_train_neg = df_labeled_train[df_labeled_train[LABEL] == 0].sample(n=ratio*X_train_pos.shape[0], random_state=RANDOM_STATE)\n",
        "print(f\"Number of negative samples in train: {X_train_neg.shape[0]}\")\n",
        "X_train = pd.concat([X_train_pos, X_train_neg])\n",
        "X_train = X_train.drop(columns=[\"id\", \"usage\", \"label\", LABEL])\n",
        "y_train = df_labeled_train[LABEL][X_train.index]\n",
        "print(f\"Number of samples in y train: {y_train.shape[0]}\")"
      ]
    },
    {
      "cell_type": "markdown",
      "metadata": {},
      "source": [
        "## Features"
      ]
    },
    {
      "cell_type": "code",
      "execution_count": 11,
      "metadata": {},
      "outputs": [],
      "source": [
        "mms = MinMaxScaler()\n",
        "X_train = mms.fit_transform(X_train)"
      ]
    },
    {
      "cell_type": "code",
      "execution_count": 12,
      "metadata": {},
      "outputs": [],
      "source": [
        "X_test = df_labeled_test.drop(columns=[\"id\", \"usage\", \"label\", LABEL])\n",
        "X_test = mms.transform(X_test)\n",
        "y_test = df_labeled_test[LABEL]"
      ]
    },
    {
      "cell_type": "markdown",
      "metadata": {},
      "source": [
        "## Modeling\n",
        "\n",
        "asd"
      ]
    },
    {
      "cell_type": "code",
      "execution_count": 13,
      "metadata": {},
      "outputs": [],
      "source": [
        "models = {\n",
        "    # 'LogisticRegression': {\n",
        "    #     'model': LogisticRegression(solver='liblinear'),\n",
        "    #     'params': {\n",
        "    #         'C': [0.1, 1, 10]\n",
        "    #     }\n",
        "    # },\n",
        "    # 'RandomForest': {\n",
        "    #     'model': RandomForestClassifier(),\n",
        "    #     'params': {\n",
        "    #         'n_estimators': [25, 50, 100],\n",
        "    #         'max_depth': [None, 10, 20]\n",
        "    #     }\n",
        "    # },\n",
        "    # 'MLPClassifier': {\n",
        "    #     'model': MLPClassifier(max_iter=500, solver='lbfgs'),\n",
        "    #     'params': {\n",
        "    #         'hidden_layer_sizes': [(50,), (100,)],\n",
        "    #         'alpha': [0.0001, 0.001]\n",
        "    #     }\n",
        "    # },\n",
        "    'ComplementNB': {\n",
        "        'model': ComplementNB(),\n",
        "        'params': {\n",
        "            'alpha': [0.1, 1, 10]\n",
        "        }\n",
        "    },\n",
        "    'SVC': {\n",
        "        'model': SVC(probability=True),\n",
        "        'params': {\n",
        "            'C': [0.1, 1, 10, 50],  # Regularization strength\n",
        "            'kernel': ['linear', 'rbf'],  # Different decision boundaries\n",
        "            'gamma': ['scale', 'auto'],  # Kernel coefficient (ignored for linear)\n",
        "        }\n",
        "    }\n",
        "}"
      ]
    },
    {
      "cell_type": "code",
      "execution_count": 14,
      "metadata": {},
      "outputs": [],
      "source": [
        "# Define Stratified K-Fold for multilabel classification\n",
        "cv = KFold(n_splits=3, shuffle=True, random_state=RANDOM_STATE)"
      ]
    },
    {
      "cell_type": "code",
      "execution_count": 15,
      "metadata": {},
      "outputs": [],
      "source": [
        "# Define scoring function (F1 score is often better for multilabel problems)\n",
        "scorer = make_scorer(f1_score, average='binary')"
      ]
    },
    {
      "cell_type": "code",
      "execution_count": 16,
      "metadata": {},
      "outputs": [
        {
          "name": "stdout",
          "output_type": "stream",
          "text": [
            "\n",
            "Training ComplementNB...\n",
            "Fitting 3 folds for each of 3 candidates, totalling 9 fits\n",
            "Best Parameters for ComplementNB: {'alpha': 0.1}\n",
            "\n",
            "Training SVC...\n",
            "Fitting 3 folds for each of 16 candidates, totalling 48 fits\n",
            "Best Parameters for SVC: {'C': 50, 'gamma': 'auto', 'kernel': 'rbf'}\n"
          ]
        }
      ],
      "source": [
        "best_models = {}\n",
        "\n",
        "# Iterate over models and perform Grid Search\n",
        "for model_name, model_info in models.items():\n",
        "    print(f\"\\nTraining {model_name}...\")\n",
        "    \n",
        "    grid_search = GridSearchCV(\n",
        "        model_info['model'], \n",
        "        model_info['params'], \n",
        "        cv=cv, \n",
        "        scoring=scorer, \n",
        "        n_jobs=-1, \n",
        "        verbose=2\n",
        "    )\n",
        "    \n",
        "    grid_search.fit(X_train, y_train)\n",
        "    \n",
        "    # Store the best model for each classifier\n",
        "    best_models[model_name] = grid_search.best_estimator_\n",
        "    \n",
        "    # Print the best hyperparameters\n",
        "    print(f\"Best Parameters for {model_name}: {grid_search.best_params_}\")"
      ]
    },
    {
      "cell_type": "code",
      "execution_count": 17,
      "metadata": {},
      "outputs": [
        {
          "name": "stdout",
          "output_type": "stream",
          "text": [
            "\n",
            "=== ComplementNB Performance ===\n",
            "Train - F1 Score: 0.8073\n",
            "Train - Accuracy: 0.9160\n",
            "Train - Precision: 0.7458\n",
            "Train - Recall: 0.8800\n"
          ]
        },
        {
          "data": {
            "image/png": "[encoded data removed]",
            "text/plain": [
              "<Figure size 600x500 with 2 Axes>"
            ]
          },
          "metadata": {},
          "output_type": "display_data"
        },
        {
          "name": "stdout",
          "output_type": "stream",
          "text": [
            "\n",
            "=== SVC Performance ===\n",
            "Train - F1 Score: 1.0000\n",
            "Train - Accuracy: 1.0000\n",
            "Train - Precision: 1.0000\n",
            "Train - Recall: 1.0000\n"
          ]
        },
        {
          "data": {
            "image/png": "[encoded data removed]",
            "text/plain": [
              "<Figure size 600x500 with 2 Axes>"
            ]
          },
          "metadata": {},
          "output_type": "display_data"
        }
      ],
      "source": [
        "# Evaluate all models\n",
        "for model_name, model in best_models.items():\n",
        "    y_pred = model.predict(X_train)\n",
        "    f1 = f1_score(y_train, y_pred, average='binary')\n",
        "    accuracy = accuracy_score(y_train, y_pred)\n",
        "    precision = precision_score(y_train, y_pred, average='binary')\n",
        "    recall = recall_score(y_train, y_pred, average='binary')\n",
        "    \n",
        "    print(f\"\\n=== {model_name} Performance ===\")\n",
        "    print(f\"Train - F1 Score: {f1:.4f}\")\n",
        "    print(f\"Train - Accuracy: {accuracy:.4f}\")\n",
        "    print(f\"Train - Precision: {precision:.4f}\")\n",
        "    print(f\"Train - Recall: {recall:.4f}\")\n",
        "\n",
        "    # Compute confusion matrix\n",
        "    cm = confusion_matrix(y_train, y_pred)\n",
        "    \n",
        "    # Plot confusion matrix\n",
        "    plt.figure(figsize=(6, 5))\n",
        "    sns.heatmap(cm, annot=True, fmt='d', cmap='Blues', xticklabels=[0, 1], yticklabels=[0, 1])\n",
        "    plt.xlabel('Predicted Label')\n",
        "    plt.ylabel('True Label')\n",
        "    plt.title(f'Confusion Matrix - {model_name}')\n",
        "    plt.show()"
      ]
    },
    {
      "cell_type": "code",
      "execution_count": 18,
      "metadata": {},
      "outputs": [
        {
          "name": "stdout",
          "output_type": "stream",
          "text": [
            "\n",
            "=== ComplementNB Performance ===\n",
            "Test - F1 Score: 0.5000\n",
            "Test - Accuracy: 0.9135\n",
            "Test - Precision: 0.3913\n",
            "Test - Recall: 0.6923\n"
          ]
        },
        {
          "data": {
            "image/png": "[encoded data removed]",
            "text/plain": [
              "<Figure size 300x300 with 2 Axes>"
            ]
          },
          "metadata": {},
          "output_type": "display_data"
        },
        {
          "name": "stdout",
          "output_type": "stream",
          "text": [
            "Misclassified indices: [ 21  26  33  34  62  63  75  80  81 114 119 135 137 141 143 146 178 181]\n",
            "\n",
            "Misclassified cases for ComplementNB:\n",
            "Index: 21, True Label: 1, Predicted: 0, Call ID: 2605096675\n",
            "Index: 26, True Label: 0, Predicted: 1, Call ID: 2504066811\n",
            "Index: 33, True Label: 0, Predicted: 1, Call ID: 2518616054\n",
            "Index: 34, True Label: 1, Predicted: 0, Call ID: 2595503219\n",
            "Index: 62, True Label: 1, Predicted: 0, Call ID: 2560200691\n",
            "Index: 63, True Label: 0, Predicted: 1, Call ID: 2541274164\n",
            "Index: 75, True Label: 0, Predicted: 1, Call ID: 2595619220\n",
            "Index: 80, True Label: 0, Predicted: 1, Call ID: 2496660155\n",
            "Index: 81, True Label: 0, Predicted: 1, Call ID: 2604923266\n",
            "Index: 114, True Label: 0, Predicted: 1, Call ID: 2557719365\n",
            "Index: 119, True Label: 0, Predicted: 1, Call ID: 2579257191\n",
            "Index: 135, True Label: 0, Predicted: 1, Call ID: 2607494446\n",
            "Index: 137, True Label: 1, Predicted: 0, Call ID: 2589645227\n",
            "Index: 141, True Label: 0, Predicted: 1, Call ID: 2545881583\n",
            "Index: 143, True Label: 0, Predicted: 1, Call ID: 2528956339\n",
            "Index: 146, True Label: 0, Predicted: 1, Call ID: 2597986915\n",
            "Index: 178, True Label: 0, Predicted: 1, Call ID: 2601403539\n",
            "Index: 181, True Label: 0, Predicted: 1, Call ID: 2505622206\n",
            "\n",
            "=== SVC Performance ===\n",
            "Test - F1 Score: 0.7500\n",
            "Test - Accuracy: 0.9712\n",
            "Test - Precision: 0.8182\n",
            "Test - Recall: 0.6923\n"
          ]
        },
        {
          "data": {
            "image/png": "[encoded data removed]",
            "text/plain": [
              "<Figure size 300x300 with 2 Axes>"
            ]
          },
          "metadata": {},
          "output_type": "display_data"
        },
        {
          "name": "stdout",
          "output_type": "stream",
          "text": [
            "Misclassified indices: [ 34  62 114 138 148 167]\n",
            "\n",
            "Misclassified cases for SVC:\n",
            "Index: 34, True Label: 1, Predicted: 0, Call ID: 2595503219\n",
            "Index: 62, True Label: 1, Predicted: 0, Call ID: 2560200691\n",
            "Index: 114, True Label: 0, Predicted: 1, Call ID: 2557719365\n",
            "Index: 138, True Label: 1, Predicted: 0, Call ID: 2576786852\n",
            "Index: 148, True Label: 0, Predicted: 1, Call ID: 2545782521\n",
            "Index: 167, True Label: 1, Predicted: 0, Call ID: 2538690386\n"
          ]
        }
      ],
      "source": [
        "# Evaluate all models\n",
        "for model_name, model in best_models.items():\n",
        "    y_pred = model.predict(X_test)\n",
        "    f1 = f1_score(y_test, y_pred, average='binary')\n",
        "    accuracy = accuracy_score(y_test, y_pred)\n",
        "    precision = precision_score(y_test, y_pred, average='binary')\n",
        "    recall = recall_score(y_test, y_pred, average='binary')\n",
        "    \n",
        "    print(f\"\\n=== {model_name} Performance ===\")\n",
        "    print(f\"Test - F1 Score: {f1:.4f}\")\n",
        "    print(f\"Test - Accuracy: {accuracy:.4f}\")\n",
        "    print(f\"Test - Precision: {precision:.4f}\")\n",
        "    print(f\"Test - Recall: {recall:.4f}\")\n",
        "\n",
        "    # Compute confusion matrix\n",
        "    cm = confusion_matrix(y_test, y_pred)\n",
        "    cm_plot = confusion_matrix(y_test, y_pred, normalize='true')\n",
        "    group_counts = [\"{0:0.0f}\".format(value) for value in cm.flatten()]\n",
        "    # Normalizes percentages over true labels (rows)\n",
        "    group_percentages = [\n",
        "        \"{0:.2%}\".format(value)\n",
        "        for value in np.nan_to_num(cm / cm.sum(axis=1, keepdims=True)).flatten()\n",
        "    ]\n",
        "    annotations = [f\"{v1}\\n{v2}\" for v1, v2 in zip(group_counts, group_percentages)]\n",
        "    annotations = np.asarray(annotations).reshape(cm.shape)\n",
        "    plt.figure(figsize=(3, 3))\n",
        "    sns.heatmap(\n",
        "        cm_plot,\n",
        "        annot=annotations,\n",
        "        fmt=\"\",\n",
        "        cmap=\"Blues\",\n",
        "        xticklabels=[\"False\", \"True\"],\n",
        "        yticklabels=[\"False\", \"True\"],\n",
        "    )\n",
        "    \n",
        "    # Plot confusion matrix\n",
        "    # plt.figure(figsize=(6, 5))\n",
        "    # sns.heatmap(cm, annot=True, fmt='d', cmap='Blues', xticklabels=[0, 1], yticklabels=[0, 1])\n",
        "    plt.xlabel('Predicted', fontsize=8)\n",
        "    plt.ylabel('Actual', fontsize=8)\n",
        "    plt.xticks(fontsize=10)\n",
        "    plt.yticks(fontsize=10)\n",
        "    plt.title(f'{LABEL.split(\"/\")[-1]}', fontsize=12)\n",
        "    plt.show()\n",
        "\n",
        "    # Identify misclassified cases\n",
        "    misclassified_indices = np.where(y_test != y_pred)[0]  # Get indices where y and y_pred differ\n",
        "    print(f\"Misclassified indices: {misclassified_indices}\")\n",
        "    if len(misclassified_indices) > 0:\n",
        "        print(f\"\\nMisclassified cases for {model_name}:\")\n",
        "        for idx in misclassified_indices:\n",
        "            print(f\"Index: {idx}, True Label: {y_test[idx]}, Predicted: {y_pred[idx]}, Call ID: {df_labeled_test.iloc[idx]['id']}\")\n",
        "    else:\n",
        "        print(f\"\\nNo misclassified cases for {model_name}.\")"
      ]
    },
    {
      "cell_type": "code",
      "execution_count": 20,
      "metadata": {},
      "outputs": [],
      "source": [
        "import pickle\n",
        "\n",
        "\n",
        "for model_name, model in best_models.items():\n",
        "    # Save the model to disk\n",
        "    filename = f\"{model_name}_{DEPARTMENT}_{LABEL.split('/')[-1]}.pkl\"\n",
        "    with open(filename, \"wb\") as f:\n",
        "        pickle.dump(model, f)"
      ]
    },
    {
      "cell_type": "markdown",
      "metadata": {},
      "source": [
        "## Test on Data for Other Department\n",
        "\n",
        "This is only really relevant if the same labels exists in both hierarchies."
      ]
    },
    {
      "cell_type": "code",
      "execution_count": null,
      "metadata": {},
      "outputs": [],
      "source": [
        "if LABEL == \"Transactional/Order & Delivery/Place order\":\n",
        "    LABEL = \"/\".join(LABEL.split(\"/\")[:2])\n",
        "\n",
        "df_labeled_test_otherdep = pd.read_csv(f\"{PATH_LABELED}/labeled_test_{OTHER_DEPARTMENT}.csv\")\n",
        "df_embeddings_otherdep = pd.read_csv(f\"{PATH_OPENAI_EMBEDDINGS}/{FILE_PREFIX_OTHER}{FEATURE}_embeddings_text-embedding-3-large.csv\")\n",
        "\n",
        "print(f\"Number of rows in embeddings: {df_labeled_test_otherdep.shape[0]}\")\n",
        "\n",
        "# Since something could have gone wrong in preprocessing, we will only keep the embeddings that are in the labeled data\n",
        "df_labeled_test_otherdep = df_labeled_test_otherdep.merge(df_embeddings_otherdep, on=\"id\", how=\"inner\")\n",
        "\n",
        "print(f\"Number of rows in embeddings after dropping unlabeled IDs: {df_labeled_test_otherdep.shape[0]}\")\n",
        "\n",
        "df_labeled_test_otherdep[LABEL] = df_labeled_test_otherdep[\"label\"].apply(lambda x: 1 if LABEL in x else 0)\n",
        "df_labeled_test_otherdep[LABEL] = df_labeled_test_otherdep[LABEL].astype(int)\n",
        "df_labeled_test_otherdep[LABEL].value_counts()\n",
        "\n",
        "X_test_otherdep = df_labeled_test_otherdep.drop(columns=[\"id\", \"usage\", \"label\", LABEL])\n",
        "y_test_otherdep = df_labeled_test_otherdep[LABEL]"
      ]
    },
    {
      "cell_type": "code",
      "execution_count": null,
      "metadata": {},
      "outputs": [],
      "source": [
        "# Evaluate all models\n",
        "for model_name, model in best_models.items():\n",
        "    y_pred = model.predict(X_test_otherdep)\n",
        "    f1 = f1_score(y_test_otherdep, y_pred, average='macro')\n",
        "    accuracy = accuracy_score(y_test_otherdep, y_pred)\n",
        "    precision = precision_score(y_test_otherdep, y_pred, average='macro')\n",
        "    recall = recall_score(y_test_otherdep, y_pred, average='macro')\n",
        "    \n",
        "    print(f\"\\n=== {model_name} Performance ===\")\n",
        "    print(f\"Test - F1 Score: {f1:.4f}\")\n",
        "    print(f\"Test - Accuracy: {accuracy:.4f}\")\n",
        "    print(f\"Test - Precision: {precision:.4f}\")\n",
        "    print(f\"Test - Recall: {recall:.4f}\")\n",
        "\n",
        "    # Compute confusion matrix\n",
        "    cm = confusion_matrix(y_test_otherdep, y_pred)\n",
        "    \n",
        "    # Plot confusion matrix\n",
        "    plt.figure(figsize=(6, 5))\n",
        "    sns.heatmap(cm, annot=True, fmt='d', cmap='Blues', xticklabels=[0, 1], yticklabels=[0, 1])\n",
        "    plt.xlabel('Predicted Label')\n",
        "    plt.ylabel('True Label')\n",
        "    plt.title(f'Confusion Matrix - {model_name}')\n",
        "    plt.show()\n",
        "\n",
        "    # Identify misclassified cases\n",
        "    misclassified_indices = np.where(y_test_otherdep != y_pred)[0]  # Get indices where y and y_pred differ\n",
        "    print(f\"Misclassified indices: {misclassified_indices}\")\n",
        "    if len(misclassified_indices) > 0:\n",
        "        print(f\"\\nMisclassified cases for {model_name}:\")\n",
        "        for idx in misclassified_indices:\n",
        "            print(f\"Index: {idx}, True Label: {y_test_otherdep[idx]}, Predicted: {y_pred[idx]}, Call ID: {df_labeled_test_otherdep.iloc[idx]['id']}\")\n",
        "    else:\n",
        "        print(f\"\\nNo misclassified cases for {model_name}.\")"
      ]
    }
  ],
  "metadata": {
    "kernelspec": {
      "display_name": "Embeddings (Python 3.12)",
      "language": "python",
      "name": "embeddings_env"
    },
    "language_info": {
      "codemirror_mode": {
        "name": "ipython",
        "version": 3
      },
      "file_extension": ".py",
      "mimetype": "text/x-python",
      "name": "python",
      "nbconvert_exporter": "python",
      "pygments_lexer": "ipython3",
      "version": "3.12.4"
    }
  },
  "nbformat": 4,
  "nbformat_minor": 2
}
