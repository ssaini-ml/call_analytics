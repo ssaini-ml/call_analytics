{
 "cells": [
  {
   "cell_type": "code",
   "execution_count": 1,
   "metadata": {
    "execution": {
     "iopub.execute_input": "2025-05-11T15:42:08.164022Z",
     "iopub.status.busy": "2025-05-11T15:42:08.163923Z",
     "iopub.status.idle": "2025-05-11T15:42:08.169365Z",
     "shell.execute_reply": "2025-05-11T15:42:08.169057Z"
    }
   },
   "outputs": [
    {
     "name": "stdout",
     "output_type": "stream",
     "text": [
      "/Users/sunilsaini/Desktop/Call_analytics/poc-call-analytics-data_retrieval-embeddings\n"
     ]
    },
    {
     "name": "stderr",
     "output_type": "stream",
     "text": [
      "/Users/sunilsaini/Desktop/Call_analytics/poc-call-analytics-data_retrieval-embeddings/embeddings_env/lib/python3.10/site-packages/IPython/core/magics/osm.py:417: UserWarning: This is now an optional IPython functionality, setting dhist requires you to install the `pickleshare` library.\n",
      "  self.shell.db['dhist'] = compress_dhist(dhist)[-100:]\n"
     ]
    }
   ],
   "source": [
    "%cd .."
   ]
  },
  {
   "cell_type": "code",
   "execution_count": 2,
   "metadata": {
    "execution": {
     "iopub.execute_input": "2025-05-11T15:42:08.193566Z",
     "iopub.status.busy": "2025-05-11T15:42:08.193358Z",
     "iopub.status.idle": "2025-05-11T15:42:08.694761Z",
     "shell.execute_reply": "2025-05-11T15:42:08.694400Z"
    }
   },
   "outputs": [],
   "source": [
    "import re\n",
    "\n",
    "import pandas as pd\n",
    "from tqdm import tqdm\n",
    "\n",
    "from src.openai_utility import authenticate_openai_client, get_guided_summary\n",
    "from src.settings import PATH_AIRCALL_PROCESSED"
   ]
  },
  {
   "cell_type": "markdown",
   "metadata": {},
   "source": [
    "# 3 - OpenAI - Get additional features\n",
    "\n",
    "This notebook is used to generate new text-based features for call data, with a focus on extracting or transforming the raw transcription into more structured or targeted representations.\n",
    "\n",
    "In particular, the feature generated here is a derived textual summary that captures only what the customer said during the call. This representation is useful for downstream machine learning tasks such as intent classification, topic tagging, or trend analysis, where isolating the customer’s perspective can reduce noise and improve signal quality.\n",
    "\n",
    "The goal of this process is to create concise, focused inputs that reflect the customer’s expressed needs, concerns, or questions — enabling more robust modeling and interpretation in subsequent stages of the pipeline."
   ]
  },
  {
   "cell_type": "code",
   "execution_count": 3,
   "metadata": {
    "execution": {
     "iopub.execute_input": "2025-05-11T15:42:08.696193Z",
     "iopub.status.busy": "2025-05-11T15:42:08.696085Z",
     "iopub.status.idle": "2025-05-11T15:42:08.697876Z",
     "shell.execute_reply": "2025-05-11T15:42:08.697663Z"
    }
   },
   "outputs": [],
   "source": [
    "### Specify the following variables ###\n",
    "INPUT_FILE = \"20250101_20250224_PS.csv\" # Just edit the filename. Directory is handled below data/aircall/processed\n",
    "#######################################\n",
    "\n",
    "INPUT_FILE_PATH=f\"{PATH_AIRCALL_PROCESSED}/{INPUT_FILE}\"\n",
    "OUTPUT_FILE_PATH=f\"{PATH_AIRCALL_PROCESSED}/{INPUT_FILE.replace('.csv', '_addedfeatures.csv')}\""
   ]
  },
  {
   "cell_type": "markdown",
   "metadata": {},
   "source": [
    "## Load Data"
   ]
  },
  {
   "cell_type": "code",
   "execution_count": 4,
   "metadata": {
    "execution": {
     "iopub.execute_input": "2025-05-11T15:42:08.698949Z",
     "iopub.status.busy": "2025-05-11T15:42:08.698876Z",
     "iopub.status.idle": "2025-05-11T15:42:08.797516Z",
     "shell.execute_reply": "2025-05-11T15:42:08.797183Z"
    }
   },
   "outputs": [],
   "source": [
    "calls_df = pd.read_csv(INPUT_FILE_PATH, encoding=\"latin-1\")"
   ]
  },
  {
   "cell_type": "code",
   "execution_count": 5,
   "metadata": {
    "execution": {
     "iopub.execute_input": "2025-05-11T15:42:08.798729Z",
     "iopub.status.busy": "2025-05-11T15:42:08.798644Z",
     "iopub.status.idle": "2025-05-11T15:42:08.857316Z",
     "shell.execute_reply": "2025-05-11T15:42:08.857028Z"
    }
   },
   "outputs": [],
   "source": [
    "def remove_agent_transcription(transcription: str) -> str:\n",
    "    \"\"\"\n",
    "    Removes all agent utterances from a call transcription, returning only the parts spoken by the customer.\n",
    "\n",
    "    This function assumes that the transcription text includes speaker tags in the format \"AGENT_<id>:\" and \"CUSTOMER:\".\n",
    "    It removes all lines and segments spoken by any agent, preserving only the customer's speech as plain text.\n",
    "\n",
    "    Args:\n",
    "        transcription (str): The full call transcription containing both agent and customer speech.\n",
    "\n",
    "    Returns:\n",
    "        str: A cleaned string containing only the customer's speech, with agent content removed.\n",
    "    \"\"\"\n",
    "    text = re.sub(r\"(AGENT_\\d:.*?)(?:CUSTOMER:)\", \"CUSTOMER:\\n\", transcription, flags=re.DOTALL | re.MULTILINE)\n",
    "    text = re.sub(r\"(AGENT_\\d:.*)\", \"\", text, flags=re.DOTALL | re.MULTILINE)\n",
    "    text = text.replace(\"CUSTOMER:\\n\\n\", \"\")\n",
    "    text = text.replace(\"CUSTOMER:\\n\", \"\")\n",
    "    text = text.replace(\"CUSTOMER:\", \"\\n\")\n",
    "    return text\n",
    "\n",
    "calls_df[\"transcription_customer_only\"] = calls_df[\"transcription\"].apply(remove_agent_transcription)"
   ]
  },
  {
   "cell_type": "markdown",
   "metadata": {},
   "source": [
    "## Get Summary"
   ]
  },
  {
   "cell_type": "code",
   "execution_count": 6,
   "metadata": {
    "execution": {
     "iopub.execute_input": "2025-05-11T15:42:08.858472Z",
     "iopub.status.busy": "2025-05-11T15:42:08.858393Z",
     "iopub.status.idle": "2025-05-11T15:42:09.106590Z",
     "shell.execute_reply": "2025-05-11T15:42:09.106349Z"
    }
   },
   "outputs": [
    {
     "name": "stderr",
     "output_type": "stream",
     "text": [
      "\r",
      "  0%|                                                            | 0/2000 [00:00<?, ?it/s]"
     ]
    },
    {
     "name": "stderr",
     "output_type": "stream",
     "text": [
      "\r",
      "  0%|                                                    | 1/2000 [00:00<07:20,  4.53it/s]"
     ]
    },
    {
     "name": "stderr",
     "output_type": "stream",
     "text": [
      "\r",
      "100%|███████████████████████████████████████████████| 2000/2000 [00:00<00:00, 8839.98it/s]"
     ]
    },
    {
     "name": "stderr",
     "output_type": "stream",
     "text": [
      "\n"
     ]
    }
   ],
   "source": [
    "client = authenticate_openai_client()\n",
    "\n",
    "file = open(\"data/prompts/customerOnlySummary.txt\", \"r\")\n",
    "instructions = file.read()\n",
    "file.close()\n",
    "\n",
    "customer_only_summaries = []\n",
    "\n",
    "for text in tqdm(calls_df[\"transcription_customer_only\"]):\n",
    "    customer_only_summaries.append(get_guided_summary(client, instructions, text))\n",
    "\n",
    "calls_df[\"summary_customer_only\"] = customer_only_summaries"
   ]
  },
  {
   "cell_type": "markdown",
   "metadata": {},
   "source": [
    "## Store Output"
   ]
  },
  {
   "cell_type": "code",
   "execution_count": 7,
   "metadata": {
    "execution": {
     "iopub.execute_input": "2025-05-11T15:42:09.107828Z",
     "iopub.status.busy": "2025-05-11T15:42:09.107734Z",
     "iopub.status.idle": "2025-05-11T15:42:09.246268Z",
     "shell.execute_reply": "2025-05-11T15:42:09.246015Z"
    }
   },
   "outputs": [],
   "source": [
    "calls_df.to_csv(OUTPUT_FILE_PATH, index=False, encoding=\"utf-8\")"
   ]
  }
 ],
 "metadata": {
  "language_info": {
   "codemirror_mode": {
    "name": "ipython",
    "version": 3
   },
   "file_extension": ".py",
   "mimetype": "text/x-python",
   "name": "python",
   "nbconvert_exporter": "python",
   "pygments_lexer": "ipython3",
   "version": "3.10.11"
  }
 },
 "nbformat": 4,
 "nbformat_minor": 2
}
