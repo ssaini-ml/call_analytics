{
  "cells": [
    {
      "cell_type": "code",
      "execution_count": null,
      "metadata": {},
      "outputs": [],
      "source": [
        "%cd .."
      ]
    },
    {
      "cell_type": "code",
      "execution_count": null,
      "metadata": {},
      "outputs": [],
      "source": [
        "import pandas as pd\n",
        "from sklearn.model_selection import train_test_split\n",
        "\n",
        "from src.settings import (\n",
        "    PATH_MLSTUDIO_LABELED_DATA,\n",
        "    PATH_AIRCALL_DATA,\n",
        "    RANDOM_STATE,\n",
        "    PATH_LABELED,\n",
        ")"
      ]
    },
    {
      "cell_type": "markdown",
      "metadata": {},
      "source": [
        "# 5 - LABELED DATA\n",
        "\n",
        "The purpose of this notebook is to combine labeled data from different sources. Part of the data was labeled by me (Luc Bams) in an Excel sheet for flexibility during label definition. The other part was labeled by SMEs in MLStudio with a fixed set of labels.\n",
        "\n",
        "## User Input"
      ]
    },
    {
      "cell_type": "code",
      "execution_count": null,
      "metadata": {},
      "outputs": [],
      "source": [
        "DEPARTMENT = \"CS\" # \"CS\" or \"PS\"\n",
        "\n",
        "if DEPARTMENT == \"CS\":\n",
        "    INPUT_EXCEL = f\"{PATH_AIRCALL_DATA}/labeled/3225863507_2000_10_rs23_complete.xlsx\"\n",
        "    INPUT_MLSTUDIO = f\"{PATH_MLSTUDIO_LABELED_DATA}/labeled_CS_0_1500.csv\"\n",
        "elif DEPARTMENT == \"PS\":\n",
        "    INPUT_EXCEL = f\"{PATH_AIRCALL_DATA}/labeled/PB_2000_0-500_rs23_complete_v2.xlsx\"\n",
        "    INPUT_MLSTUDIO = f\"{PATH_MLSTUDIO_LABELED_DATA}/labeled_PS_0_750.csv\""
      ]
    },
    {
      "cell_type": "markdown",
      "metadata": {},
      "source": [
        "## Load Data\n",
        "\n",
        "### MLStudio --> Labeled by Redcare\n",
        "\n",
        "First we load the MLStudio data. This data is straightforward. We just select the columns we need and rename them. Instead of the url to the file used for labeling, we want the id of the call. The files were named using the call id, so that information is easy to extract. We will also replace the non-leaf node labels that were assigned by a leaf-node one (i.e. if an SME assigned, for example, Support/Order & Delivery we turn that into Support/Order & Delivery/Other, since they mean the same thing). This can happen since MLStudio allows non-leaf node labels. Semantically, Support/Order & Deliver means the same as Support/Order & Delivery/Other. It means it wasn't possible to be more specific than the first two levels."
      ]
    },
    {
      "cell_type": "code",
      "execution_count": null,
      "metadata": {},
      "outputs": [],
      "source": [
        "df_mlstudio = pd.read_csv(INPUT_MLSTUDIO, usecols=[\"Url\", \"Label\"])\n",
        "df_mlstudio.rename(columns={\"Url\": \"id\", \"Label\": \"label\"}, inplace=True)\n",
        "df_mlstudio[\"id\"] = df_mlstudio[\"id\"].apply(lambda x: x.split(\"/\")[-1].replace(\".txt\", \"\"))\n",
        "df_mlstudio.sort_values(\"id\", inplace=True)\n",
        "df_mlstudio.head()"
      ]
    },
    {
      "cell_type": "code",
      "execution_count": null,
      "metadata": {},
      "outputs": [],
      "source": [
        "print(f\"MLStudio data shape: {df_mlstudio.shape}\")"
      ]
    },
    {
      "cell_type": "markdown",
      "metadata": {},
      "source": [
        "#### Label check\n",
        "\n",
        "Let's check whether we only have labels that we expect.\n",
        "\n",
        "For CS, there are some non-leaf node labels. We change these into their corresponding leaf-node labels."
      ]
    },
    {
      "cell_type": "code",
      "execution_count": null,
      "metadata": {},
      "outputs": [],
      "source": [
        "df_mlstudio[\"label\"] = df_mlstudio[\"label\"].apply(\n",
        "    lambda x: [x for x in x.split(\",\")]\n",
        ")\n",
        "df_mlstudio = df_mlstudio.explode(\"label\")\n",
        "\n",
        "if DEPARTMENT == \"CS\":\n",
        "    df_mlstudio[\"label\"] = df_mlstudio[\"label\"].apply(\n",
        "        lambda x: (\n",
        "            f\"{x}/Other\"\n",
        "            if x\n",
        "            in [\n",
        "                \"Informational/Order & Delivery\",\n",
        "                \"Transactional/Order & Delivery\",\n",
        "                \"Support/Payment & Discount\",\n",
        "                \"Support/Order & Delivery\",\n",
        "            ]\n",
        "            else x\n",
        "        )\n",
        "    )\n",
        "elif DEPARTMENT == \"PS\":\n",
        "    # No need to change the labels for PS. Only delete the label \"CS\" --> Not relevant for intent recognition\n",
        "    df_mlstudio = df_mlstudio[df_mlstudio[\"label\"] != \"CS\"]\n",
        "\n",
        "print(len(df_mlstudio[\"label\"].unique()))\n",
        "\n",
        "# Uncomment below if you want to see the labels and how often they occur.\n",
        "# Note that these numbers differ from the distributions later, since this takes all labels per call into account.\n",
        "# Later on, we only take the first label into account.\n",
        "# df_mlstudio[\"label\"].value_counts(normalize=True)"
      ]
    },
    {
      "cell_type": "code",
      "execution_count": null,
      "metadata": {},
      "outputs": [],
      "source": [
        "# 'Implode' the data again, so that we have one row per call.\n",
        "df_mlstudio = df_mlstudio.groupby(\"id\")[\"label\"].apply(lambda x: \",\".join(x)).reset_index()\n",
        "df_mlstudio.sort_values(\"id\", inplace=True)\n",
        "df_mlstudio.head()"
      ]
    },
    {
      "cell_type": "code",
      "execution_count": null,
      "metadata": {},
      "outputs": [],
      "source": [
        "print(f\"MLStudio data shape: {df_mlstudio.shape}\")"
      ]
    },
    {
      "cell_type": "markdown",
      "metadata": {},
      "source": [
        "### Excel --> Labeled by Luc (Conclusion Intelligence)\n",
        "\n",
        "This data needs some more processing, since this file was used during the early stages. There's a lot of information in there that's of no use to us anymore. Still, we just select the columns we're interested in (i.e. id and 4 columns per label - 3 labels per call was the maximum). We then need to piece the information from the separate columns together to adhere to the label representation used in MLStudio. We drop the calls that weren't labeled too."
      ]
    },
    {
      "cell_type": "code",
      "execution_count": null,
      "metadata": {},
      "outputs": [],
      "source": [
        "df_excel = pd.read_excel(\n",
        "    INPUT_EXCEL,\n",
        "    sheet_name=\"DATA\",\n",
        "    usecols=[\n",
        "        \"id\",\n",
        "        \"contact_type_1\",\n",
        "        \"grouping_1\",\n",
        "        \"specification_1_0\",\n",
        "        \"specification_1_1\",\n",
        "        \"contact_type_2\",\n",
        "        \"grouping_2\",\n",
        "        \"specification_2_0\",\n",
        "        \"specification_2_1\",\n",
        "        \"contact_type_3\",\n",
        "        \"grouping_3\",\n",
        "        \"specification_3_0\",\n",
        "        \"specification_3_1\",\n",
        "    ],\n",
        ")\n",
        "\n",
        "df_excel.dropna(subset=[\"contact_type_1\"], inplace=True)\n",
        "\n",
        "\n",
        "def combine_columns(row, columns):\n",
        "    return \"/\".join([str(row[col]) for col in columns if row[col] is not None])\n",
        "\n",
        "\n",
        "df_excel[\"label_1\"] = df_excel.apply(\n",
        "    lambda row: combine_columns(\n",
        "        row, [\"contact_type_1\", \"grouping_1\", \"specification_1_0\", \"specification_1_1\"]\n",
        "    ),\n",
        "    axis=1,\n",
        ")\n",
        "df_excel[\"label_2\"] = df_excel.apply(\n",
        "    lambda row: combine_columns(\n",
        "        row, [\"contact_type_2\", \"grouping_2\", \"specification_2_0\", \"specification_2_1\"]\n",
        "    ),\n",
        "    axis=1,\n",
        ")\n",
        "df_excel[\"label_3\"] = df_excel.apply(\n",
        "    lambda row: combine_columns(\n",
        "        row, [\"contact_type_3\", \"grouping_3\", \"specification_3_0\", \"specification_3_1\"]\n",
        "    ),\n",
        "    axis=1,\n",
        ")\n",
        "\n",
        "df_excel[\"label\"] = df_excel.apply(\n",
        "    lambda row: [\n",
        "        row[\"label_1\"].replace(\"/nan\", \"\"),\n",
        "        row[\"label_2\"].replace(\"/nan\", \"\"),\n",
        "        row[\"label_3\"].replace(\"/nan\", \"\"),\n",
        "    ],\n",
        "    axis=1,\n",
        ")\n",
        "df_excel[\"label\"] = df_excel[\"label\"].apply(\n",
        "    lambda x: [label for label in x if label != \"nan\"]\n",
        ")\n",
        "df_excel[\"label\"] = df_excel[\"label\"].apply(lambda x: \",\".join(x))\n",
        "\n",
        "df_excel = df_excel[[\"id\", \"label\"]]\n",
        "\n",
        "df_excel.head()"
      ]
    },
    {
      "cell_type": "code",
      "execution_count": null,
      "metadata": {},
      "outputs": [],
      "source": [
        "print(f\"Excel data shape: {df_excel.shape}\")"
      ]
    },
    {
      "cell_type": "markdown",
      "metadata": {},
      "source": [
        "#### Label check\n",
        "\n",
        "Let's check whether we only have labels left that we expect."
      ]
    },
    {
      "cell_type": "code",
      "execution_count": null,
      "metadata": {},
      "outputs": [],
      "source": [
        "df_excel[\"label\"] = df_excel[\"label\"].apply(\n",
        "    lambda x: [x for x in x.split(\",\")]\n",
        ")\n",
        "df_excel = df_excel.explode(\"label\")\n",
        "\n",
        "print(len(df_excel[\"label\"].unique()))\n",
        "\n",
        "# Uncomment below if you want to see the labels and how often they occur.\n",
        "# Note that these numbers differ from the distributions later, since this takes all labels per call into account.\n",
        "# Later on, we only take the first label into account.\n",
        "# df_excel.label.value_counts(normalize=True)"
      ]
    },
    {
      "cell_type": "code",
      "execution_count": null,
      "metadata": {},
      "outputs": [],
      "source": [
        "# 'Implode' the data again, so that we have one row per call.\n",
        "df_excel = df_excel.groupby(\"id\")[\"label\"].apply(lambda x: \",\".join(x)).reset_index()\n",
        "df_excel.sort_values(\"id\", inplace=True)\n",
        "df_excel.head()"
      ]
    },
    {
      "cell_type": "markdown",
      "metadata": {},
      "source": [
        "## Merge Data\n",
        "\n",
        "Obviously we have to paste these two dataframes together now to create one big set."
      ]
    },
    {
      "cell_type": "code",
      "execution_count": null,
      "metadata": {},
      "outputs": [],
      "source": [
        "df = pd.concat([df_mlstudio, df_excel], ignore_index=True)\n",
        "df.info()"
      ]
    },
    {
      "cell_type": "markdown",
      "metadata": {},
      "source": [
        "## Create Test Set\n",
        "\n",
        "We'll split the dataset in two now. The majority of it will be used to train models. The smaller set will be used afterwards to assess model performance. We'll use a stratified split (i.e. approximately the same percentages per label in both sets). Since there are a whole lot of potential label combinations for a multilabel problem, we will do this based on the first label for each call."
      ]
    },
    {
      "cell_type": "code",
      "execution_count": null,
      "metadata": {},
      "outputs": [],
      "source": [
        "df[\"label_1\"] = df[\"label\"].apply(lambda x: x.split(\",\")[0] if len(x.split(\",\")) > 0 else \"\")\n",
        "\n",
        "df_train, df_test = train_test_split(\n",
        "    df, test_size=0.2, random_state=RANDOM_STATE, stratify=df[\"label_1\"]\n",
        ")"
      ]
    },
    {
      "cell_type": "code",
      "execution_count": null,
      "metadata": {},
      "outputs": [],
      "source": [
        "df_train.label_1.value_counts(normalize=True)"
      ]
    },
    {
      "cell_type": "code",
      "execution_count": null,
      "metadata": {},
      "outputs": [],
      "source": [
        "df_test.label_1.value_counts(normalize=True)"
      ]
    },
    {
      "cell_type": "code",
      "execution_count": null,
      "metadata": {},
      "outputs": [],
      "source": [
        "df_train.drop(columns=[\"label_1\"], inplace=True)\n",
        "df_test.drop(columns=[\"label_1\"], inplace=True)"
      ]
    },
    {
      "cell_type": "markdown",
      "metadata": {},
      "source": [
        "## Store Data\n",
        "\n",
        "As in all these notebooks, we'll store this intermediate step so you do not necessarily have to run all of them in order."
      ]
    },
    {
      "cell_type": "code",
      "execution_count": null,
      "metadata": {},
      "outputs": [],
      "source": [
        "df_train.to_csv(f\"{PATH_LABELED}/labeled_train_{DEPARTMENT}.csv\", index=False)\n",
        "df_test.to_csv(f\"{PATH_LABELED}/labeled_test_{DEPARTMENT}.csv\", index=False)"
      ]
    }
  ],
  "metadata": {
    "kernelspec": {
      "display_name": "Embeddings (Python 3.12)",
      "language": "python",
      "name": "embeddings_env"
    },
    "language_info": {
      "codemirror_mode": {
        "name": "ipython",
        "version": 3
      },
      "file_extension": ".py",
      "mimetype": "text/x-python",
      "name": "python",
      "nbconvert_exporter": "python",
      "pygments_lexer": "ipython3",
      "version": "3.12.4"
    }
  },
  "nbformat": 4,
  "nbformat_minor": 2
}
