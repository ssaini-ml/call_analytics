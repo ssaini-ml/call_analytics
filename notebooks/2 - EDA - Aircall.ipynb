{
 "cells": [
  {
   "cell_type": "code",
   "execution_count": 1,
   "metadata": {
    "execution": {
     "iopub.execute_input": "2025-05-11T15:41:45.977653Z",
     "iopub.status.busy": "2025-05-11T15:41:45.977481Z",
     "iopub.status.idle": "2025-05-11T15:41:45.984069Z",
     "shell.execute_reply": "2025-05-11T15:41:45.983690Z"
    }
   },
   "outputs": [
    {
     "name": "stdout",
     "output_type": "stream",
     "text": [
      "/Users/sunilsaini/Desktop/Call_analytics/poc-call-analytics-data_retrieval-embeddings\n"
     ]
    },
    {
     "name": "stderr",
     "output_type": "stream",
     "text": [
      "/Users/sunilsaini/Desktop/Call_analytics/poc-call-analytics-data_retrieval-embeddings/embeddings_env/lib/python3.10/site-packages/IPython/core/magics/osm.py:417: UserWarning: This is now an optional IPython functionality, setting dhist requires you to install the `pickleshare` library.\n",
      "  self.shell.db['dhist'] = compress_dhist(dhist)[-100:]\n"
     ]
    }
   ],
   "source": [
    "%cd .."
   ]
  },
  {
   "cell_type": "code",
   "execution_count": 2,
   "metadata": {
    "execution": {
     "iopub.execute_input": "2025-05-11T15:41:46.006572Z",
     "iopub.status.busy": "2025-05-11T15:41:46.006396Z",
     "iopub.status.idle": "2025-05-11T15:42:05.753530Z",
     "shell.execute_reply": "2025-05-11T15:42:05.753181Z"
    }
   },
   "outputs": [
    {
     "name": "stderr",
     "output_type": "stream",
     "text": [
      "Matplotlib is building the font cache; this may take a moment.\n"
     ]
    }
   ],
   "source": [
    "from datetime import datetime, timezone\n",
    "\n",
    "import matplotlib.pyplot as plt\n",
    "import pandas as pd\n",
    "import pytz\n",
    "import seaborn as sns\n",
    "\n",
    "from src.settings import PATH_AIRCALL_PROCESSED"
   ]
  },
  {
   "cell_type": "markdown",
   "metadata": {},
   "source": [
    "# 2 - Exploratory Data Analysis - Aircall\n",
    "\n",
    "This notebook aims to explore and understand the structure, distribution, and key characteristics of the call data retrieved from Aircall."
   ]
  },
  {
   "cell_type": "code",
   "execution_count": 3,
   "metadata": {
    "execution": {
     "iopub.execute_input": "2025-05-11T15:42:05.755134Z",
     "iopub.status.busy": "2025-05-11T15:42:05.755017Z",
     "iopub.status.idle": "2025-05-11T15:42:05.756950Z",
     "shell.execute_reply": "2025-05-11T15:42:05.756672Z"
    }
   },
   "outputs": [],
   "source": [
    "### Specify the following variables ###\n",
    "INPUT_FILE = f\"{PATH_AIRCALL_PROCESSED}/20250101_20250224_PS.csv\" # Just edit the filename. Directory is handled by the environment variable\n",
    "#######################################"
   ]
  },
  {
   "cell_type": "markdown",
   "metadata": {},
   "source": [
    "## Load data"
   ]
  },
  {
   "cell_type": "code",
   "execution_count": 4,
   "metadata": {
    "execution": {
     "iopub.execute_input": "2025-05-11T15:42:05.758275Z",
     "iopub.status.busy": "2025-05-11T15:42:05.758189Z",
     "iopub.status.idle": "2025-05-11T15:42:05.862684Z",
     "shell.execute_reply": "2025-05-11T15:42:05.862345Z"
    }
   },
   "outputs": [],
   "source": [
    "calls_df = pd.read_csv(INPUT_FILE, encoding=\"latin-1\")"
   ]
  },
  {
   "cell_type": "markdown",
   "metadata": {},
   "source": [
    "## Descriptive Statistics\n",
    "\n",
    "### Overview & Summary"
   ]
  },
  {
   "cell_type": "code",
   "execution_count": 5,
   "metadata": {
    "execution": {
     "iopub.execute_input": "2025-05-11T15:42:05.864032Z",
     "iopub.status.busy": "2025-05-11T15:42:05.863944Z",
     "iopub.status.idle": "2025-05-11T15:42:05.904140Z",
     "shell.execute_reply": "2025-05-11T15:42:05.903932Z"
    }
   },
   "outputs": [
    {
     "name": "stdout",
     "output_type": "stream",
     "text": [
      "<class 'pandas.core.frame.DataFrame'>\n",
      "RangeIndex: 2000 entries, 0 to 1999\n",
      "Data columns (total 23 columns):\n",
      " #   Column                        Non-Null Count  Dtype                        \n",
      "---  ------                        --------------  -----                        \n",
      " 0   id                            2000 non-null   int64                        \n",
      " 1   sid                           2000 non-null   object                       \n",
      " 2   direction                     2000 non-null   object                       \n",
      " 3   status                        2000 non-null   object                       \n",
      " 4   missed_call_reason            0 non-null      float64                      \n",
      " 5   started_at                    2000 non-null   datetime64[ns, Europe/Berlin]\n",
      " 6   answered_at                   2000 non-null   datetime64[ns, Europe/Berlin]\n",
      " 7   ended_at                      2000 non-null   datetime64[ns, Europe/Berlin]\n",
      " 8   duration                      2000 non-null   int64                        \n",
      " 9   recording                     2000 non-null   object                       \n",
      " 10  number_id                     2000 non-null   int64                        \n",
      " 11  number_digits                 2000 non-null   object                       \n",
      " 12  number_name                   2000 non-null   object                       \n",
      " 13  number_country                2000 non-null   object                       \n",
      " 14  country_code_a2               1884 non-null   object                       \n",
      " 15  transcription                 1989 non-null   object                       \n",
      " 16  summary                       1332 non-null   object                       \n",
      " 17  sentiment                     1331 non-null   object                       \n",
      " 18  topics                        1332 non-null   object                       \n",
      " 19  day_of_week                   2000 non-null   category                     \n",
      " 20  token_estimate_transcription  2000 non-null   float64                      \n",
      " 21  token_estimate_summary        2000 non-null   float64                      \n",
      " 22  token_estimate_topics         2000 non-null   float64                      \n",
      "dtypes: category(1), datetime64[ns, Europe/Berlin](3), float64(4), int64(3), object(12)\n",
      "memory usage: 346.2+ KB\n"
     ]
    }
   ],
   "source": [
    "# Not all calls have a transcription, summary, topics, or sentiment. Replacing the PII artifact of that here with NA\n",
    "calls_df.replace(\"Error: Document text is empty.\", pd.NA, inplace=True)\n",
    "\n",
    "# Converting the timestamp columns to datetime objects\n",
    "for col in [\"started_at\", \"answered_at\", \"ended_at\"]:\n",
    "    calls_df[col] = calls_df[col].apply(\n",
    "        lambda x: (\n",
    "            datetime.fromtimestamp(int(x), tz=timezone.utc).astimezone(\n",
    "                pytz.timezone(\"Europe/Berlin\")\n",
    "            )\n",
    "            if pd.notna(x)\n",
    "            else pd.NA\n",
    "        )\n",
    "    )\n",
    "\n",
    "calls_df[\"day_of_week\"] = calls_df[\"started_at\"].dt.day_name()\n",
    "calls_df.day_of_week = pd.Categorical(\n",
    "    calls_df.day_of_week,\n",
    "    categories=[\n",
    "        \"Monday\",\n",
    "        \"Tuesday\",\n",
    "        \"Wednesday\",\n",
    "        \"Thursday\",\n",
    "        \"Friday\",\n",
    "        \"Saturday\",\n",
    "        \"Sunday\",\n",
    "    ],\n",
    "    ordered=True,\n",
    ")\n",
    "\n",
    "for ci_feature in [\"transcription\", \"summary\", \"topics\"]:\n",
    "    # Using OpenAI rule of thumb of 1 token per 4 characters: https://help.openai.com/en/articles/4936856-what-are-tokens-and-how-to-count-them\n",
    "    calls_df[f\"token_estimate_{ci_feature}\"] = calls_df[ci_feature].apply(lambda x: len(x)/4 if pd.notna(x) else 0)\n",
    "\n",
    "calls_df.info()"
   ]
  },
  {
   "cell_type": "markdown",
   "metadata": {},
   "source": [
    "What does the data look like?"
   ]
  },
  {
   "cell_type": "code",
   "execution_count": 6,
   "metadata": {
    "execution": {
     "iopub.execute_input": "2025-05-11T15:42:05.905225Z",
     "iopub.status.busy": "2025-05-11T15:42:05.905154Z",
     "iopub.status.idle": "2025-05-11T15:42:05.912405Z",
     "shell.execute_reply": "2025-05-11T15:42:05.912222Z"
    }
   },
   "outputs": [
    {
     "data": {
      "text/html": [
       "<div>\n",
       "<style scoped>\n",
       "    .dataframe tbody tr th:only-of-type {\n",
       "        vertical-align: middle;\n",
       "    }\n",
       "\n",
       "    .dataframe tbody tr th {\n",
       "        vertical-align: top;\n",
       "    }\n",
       "\n",
       "    .dataframe thead th {\n",
       "        text-align: right;\n",
       "    }\n",
       "</style>\n",
       "<table border=\"1\" class=\"dataframe\">\n",
       "  <thead>\n",
       "    <tr style=\"text-align: right;\">\n",
       "      <th></th>\n",
       "      <th>id</th>\n",
       "      <th>sid</th>\n",
       "      <th>direction</th>\n",
       "      <th>status</th>\n",
       "      <th>missed_call_reason</th>\n",
       "      <th>started_at</th>\n",
       "      <th>answered_at</th>\n",
       "      <th>ended_at</th>\n",
       "      <th>duration</th>\n",
       "      <th>recording</th>\n",
       "      <th>...</th>\n",
       "      <th>number_country</th>\n",
       "      <th>country_code_a2</th>\n",
       "      <th>transcription</th>\n",
       "      <th>summary</th>\n",
       "      <th>sentiment</th>\n",
       "      <th>topics</th>\n",
       "      <th>day_of_week</th>\n",
       "      <th>token_estimate_transcription</th>\n",
       "      <th>token_estimate_summary</th>\n",
       "      <th>token_estimate_topics</th>\n",
       "    </tr>\n",
       "  </thead>\n",
       "  <tbody>\n",
       "    <tr>\n",
       "      <th>0</th>\n",
       "      <td>2604408571</td>\n",
       "      <td>CA574acd4348a8f1b23ad9ea292fe30592</td>\n",
       "      <td>inbound</td>\n",
       "      <td>done</td>\n",
       "      <td>NaN</td>\n",
       "      <td>2025-02-20 09:34:40+01:00</td>\n",
       "      <td>2025-02-20 09:34:53+01:00</td>\n",
       "      <td>2025-02-20 09:39:34+01:00</td>\n",
       "      <td>294</td>\n",
       "      <td>https://production-fra-555773567328-web-record...</td>\n",
       "      <td>...</td>\n",
       "      <td>NL</td>\n",
       "      <td>DE</td>\n",
       "      <td>AGENT_1:\\nIch habe eine tollste Beratung von d...</td>\n",
       "      <td>Der Kunde erkundigt sich nach der Verfügbarkei...</td>\n",
       "      <td>NEUTRAL</td>\n",
       "      <td>medikamentenverfügbarkeit\\nclomipramin 25 mg\\n...</td>\n",
       "      <td>Thursday</td>\n",
       "      <td>599.50</td>\n",
       "      <td>85.00</td>\n",
       "      <td>22.50</td>\n",
       "    </tr>\n",
       "    <tr>\n",
       "      <th>1</th>\n",
       "      <td>2610199581</td>\n",
       "      <td>CAbfbe59dd31525a01efdb4186374a0a00</td>\n",
       "      <td>inbound</td>\n",
       "      <td>done</td>\n",
       "      <td>NaN</td>\n",
       "      <td>2025-02-22 14:40:24+01:00</td>\n",
       "      <td>2025-02-22 14:40:34+01:00</td>\n",
       "      <td>2025-02-22 14:43:03+01:00</td>\n",
       "      <td>159</td>\n",
       "      <td>https://production-fra-555773567328-web-record...</td>\n",
       "      <td>...</td>\n",
       "      <td>NL</td>\n",
       "      <td>DE</td>\n",
       "      <td>AGENT_1:\\nDas ist meine Name. Guten Tag.\\n\\nCU...</td>\n",
       "      <td>Der Anruf drehte sich um eine Anfrage eines Ku...</td>\n",
       "      <td>NEUTRAL</td>\n",
       "      <td>unterschied contra 2/3\\nproduktnummern\\npackun...</td>\n",
       "      <td>Saturday</td>\n",
       "      <td>339.25</td>\n",
       "      <td>83.25</td>\n",
       "      <td>19.75</td>\n",
       "    </tr>\n",
       "    <tr>\n",
       "      <th>2</th>\n",
       "      <td>2543811905</td>\n",
       "      <td>CA1899c2a2e06871ab8f32bfc746fb4e4a</td>\n",
       "      <td>inbound</td>\n",
       "      <td>done</td>\n",
       "      <td>NaN</td>\n",
       "      <td>2025-01-25 13:56:07+01:00</td>\n",
       "      <td>2025-01-25 13:58:13+01:00</td>\n",
       "      <td>2025-01-25 14:01:10+01:00</td>\n",
       "      <td>303</td>\n",
       "      <td>https://production-fra-555773567328-web-record...</td>\n",
       "      <td>...</td>\n",
       "      <td>NL</td>\n",
       "      <td>DE</td>\n",
       "      <td>AGENT_1:\\nGuten Tag, von Massage Abteilung. Me...</td>\n",
       "      <td>Der Kunde, **************, erkundigt sich nach...</td>\n",
       "      <td>POSITIVE</td>\n",
       "      <td>laktosefreiheit des medikaments\\nrezeptbestell...</td>\n",
       "      <td>Saturday</td>\n",
       "      <td>776.25</td>\n",
       "      <td>109.75</td>\n",
       "      <td>30.50</td>\n",
       "    </tr>\n",
       "    <tr>\n",
       "      <th>3</th>\n",
       "      <td>2520093703</td>\n",
       "      <td>CA208f21f137c6323aaa36a1fdca2e4e6f</td>\n",
       "      <td>inbound</td>\n",
       "      <td>done</td>\n",
       "      <td>NaN</td>\n",
       "      <td>2025-01-15 16:48:45+01:00</td>\n",
       "      <td>2025-01-15 16:50:22+01:00</td>\n",
       "      <td>2025-01-15 16:56:20+01:00</td>\n",
       "      <td>455</td>\n",
       "      <td>https://production-fra-555773567328-web-record...</td>\n",
       "      <td>...</td>\n",
       "      <td>NL</td>\n",
       "      <td>NaN</td>\n",
       "      <td>AGENT_1:\\nUnd als Beratung, Sie sprechen mit *...</td>\n",
       "      <td>&lt;NA&gt;</td>\n",
       "      <td>NaN</td>\n",
       "      <td>&lt;NA&gt;</td>\n",
       "      <td>Wednesday</td>\n",
       "      <td>1079.50</td>\n",
       "      <td>0.00</td>\n",
       "      <td>0.00</td>\n",
       "    </tr>\n",
       "    <tr>\n",
       "      <th>4</th>\n",
       "      <td>2532038872</td>\n",
       "      <td>CA8b4dfc606a57263af31c066406931a91</td>\n",
       "      <td>inbound</td>\n",
       "      <td>done</td>\n",
       "      <td>NaN</td>\n",
       "      <td>2025-01-21 11:28:40+01:00</td>\n",
       "      <td>2025-01-21 11:30:25+01:00</td>\n",
       "      <td>2025-01-21 11:32:05+01:00</td>\n",
       "      <td>205</td>\n",
       "      <td>https://production-fra-555773567328-web-record...</td>\n",
       "      <td>...</td>\n",
       "      <td>NL</td>\n",
       "      <td>DE</td>\n",
       "      <td>AGENT_1:\\nAlso von ****************** mein Nam...</td>\n",
       "      <td>Ein Kunde erkundigt sich nach den verfügbaren ...</td>\n",
       "      <td>NEUTRAL</td>\n",
       "      <td>nitrolingual größen\\nrezeptpflicht\\nverfügbare...</td>\n",
       "      <td>Tuesday</td>\n",
       "      <td>282.75</td>\n",
       "      <td>42.00</td>\n",
       "      <td>21.25</td>\n",
       "    </tr>\n",
       "  </tbody>\n",
       "</table>\n",
       "<p>5 rows × 23 columns</p>\n",
       "</div>"
      ],
      "text/plain": [
       "           id                                 sid direction status  \\\n",
       "0  2604408571  CA574acd4348a8f1b23ad9ea292fe30592   inbound   done   \n",
       "1  2610199581  CAbfbe59dd31525a01efdb4186374a0a00   inbound   done   \n",
       "2  2543811905  CA1899c2a2e06871ab8f32bfc746fb4e4a   inbound   done   \n",
       "3  2520093703  CA208f21f137c6323aaa36a1fdca2e4e6f   inbound   done   \n",
       "4  2532038872  CA8b4dfc606a57263af31c066406931a91   inbound   done   \n",
       "\n",
       "   missed_call_reason                started_at               answered_at  \\\n",
       "0                 NaN 2025-02-20 09:34:40+01:00 2025-02-20 09:34:53+01:00   \n",
       "1                 NaN 2025-02-22 14:40:24+01:00 2025-02-22 14:40:34+01:00   \n",
       "2                 NaN 2025-01-25 13:56:07+01:00 2025-01-25 13:58:13+01:00   \n",
       "3                 NaN 2025-01-15 16:48:45+01:00 2025-01-15 16:50:22+01:00   \n",
       "4                 NaN 2025-01-21 11:28:40+01:00 2025-01-21 11:30:25+01:00   \n",
       "\n",
       "                   ended_at  duration  \\\n",
       "0 2025-02-20 09:39:34+01:00       294   \n",
       "1 2025-02-22 14:43:03+01:00       159   \n",
       "2 2025-01-25 14:01:10+01:00       303   \n",
       "3 2025-01-15 16:56:20+01:00       455   \n",
       "4 2025-01-21 11:32:05+01:00       205   \n",
       "\n",
       "                                           recording  ...  number_country  \\\n",
       "0  https://production-fra-555773567328-web-record...  ...              NL   \n",
       "1  https://production-fra-555773567328-web-record...  ...              NL   \n",
       "2  https://production-fra-555773567328-web-record...  ...              NL   \n",
       "3  https://production-fra-555773567328-web-record...  ...              NL   \n",
       "4  https://production-fra-555773567328-web-record...  ...              NL   \n",
       "\n",
       "  country_code_a2                                      transcription  \\\n",
       "0              DE  AGENT_1:\\nIch habe eine tollste Beratung von d...   \n",
       "1              DE  AGENT_1:\\nDas ist meine Name. Guten Tag.\\n\\nCU...   \n",
       "2              DE  AGENT_1:\\nGuten Tag, von Massage Abteilung. Me...   \n",
       "3             NaN  AGENT_1:\\nUnd als Beratung, Sie sprechen mit *...   \n",
       "4              DE  AGENT_1:\\nAlso von ****************** mein Nam...   \n",
       "\n",
       "                                             summary sentiment  \\\n",
       "0  Der Kunde erkundigt sich nach der Verfügbarkei...   NEUTRAL   \n",
       "1  Der Anruf drehte sich um eine Anfrage eines Ku...   NEUTRAL   \n",
       "2  Der Kunde, **************, erkundigt sich nach...  POSITIVE   \n",
       "3                                               <NA>       NaN   \n",
       "4  Ein Kunde erkundigt sich nach den verfügbaren ...   NEUTRAL   \n",
       "\n",
       "                                              topics day_of_week  \\\n",
       "0  medikamentenverfügbarkeit\\nclomipramin 25 mg\\n...    Thursday   \n",
       "1  unterschied contra 2/3\\nproduktnummern\\npackun...    Saturday   \n",
       "2  laktosefreiheit des medikaments\\nrezeptbestell...    Saturday   \n",
       "3                                               <NA>   Wednesday   \n",
       "4  nitrolingual größen\\nrezeptpflicht\\nverfügbare...     Tuesday   \n",
       "\n",
       "  token_estimate_transcription token_estimate_summary token_estimate_topics  \n",
       "0                       599.50                  85.00                 22.50  \n",
       "1                       339.25                  83.25                 19.75  \n",
       "2                       776.25                 109.75                 30.50  \n",
       "3                      1079.50                   0.00                  0.00  \n",
       "4                       282.75                  42.00                 21.25  \n",
       "\n",
       "[5 rows x 23 columns]"
      ]
     },
     "execution_count": 6,
     "metadata": {},
     "output_type": "execute_result"
    }
   ],
   "source": [
    "calls_df.head()"
   ]
  },
  {
   "cell_type": "markdown",
   "metadata": {},
   "source": [
    "## Call Volume"
   ]
  },
  {
   "cell_type": "code",
   "execution_count": 7,
   "metadata": {
    "execution": {
     "iopub.execute_input": "2025-05-11T15:42:05.913394Z",
     "iopub.status.busy": "2025-05-11T15:42:05.913312Z",
     "iopub.status.idle": "2025-05-11T15:42:05.918155Z",
     "shell.execute_reply": "2025-05-11T15:42:05.917968Z"
    }
   },
   "outputs": [
    {
     "data": {
      "text/html": [
       "<div>\n",
       "<style scoped>\n",
       "    .dataframe tbody tr th:only-of-type {\n",
       "        vertical-align: middle;\n",
       "    }\n",
       "\n",
       "    .dataframe tbody tr th {\n",
       "        vertical-align: top;\n",
       "    }\n",
       "\n",
       "    .dataframe thead th {\n",
       "        text-align: right;\n",
       "    }\n",
       "</style>\n",
       "<table border=\"1\" class=\"dataframe\">\n",
       "  <thead>\n",
       "    <tr style=\"text-align: right;\">\n",
       "      <th></th>\n",
       "      <th>id</th>\n",
       "      <th>recording</th>\n",
       "      <th>sentiment</th>\n",
       "      <th>summary</th>\n",
       "      <th>topics</th>\n",
       "      <th>transcription</th>\n",
       "    </tr>\n",
       "    <tr>\n",
       "      <th>number_name</th>\n",
       "      <th></th>\n",
       "      <th></th>\n",
       "      <th></th>\n",
       "      <th></th>\n",
       "      <th></th>\n",
       "      <th></th>\n",
       "    </tr>\n",
       "  </thead>\n",
       "  <tbody>\n",
       "    <tr>\n",
       "      <th>CS Experts DE</th>\n",
       "      <td>1</td>\n",
       "      <td>1</td>\n",
       "      <td>0</td>\n",
       "      <td>0</td>\n",
       "      <td>0</td>\n",
       "      <td>1</td>\n",
       "    </tr>\n",
       "    <tr>\n",
       "      <th>PS PB EAV IVR Kosmetik (M)</th>\n",
       "      <td>7</td>\n",
       "      <td>7</td>\n",
       "      <td>2</td>\n",
       "      <td>2</td>\n",
       "      <td>2</td>\n",
       "      <td>7</td>\n",
       "    </tr>\n",
       "    <tr>\n",
       "      <th>PS PB EAV IVR NEM (M)</th>\n",
       "      <td>27</td>\n",
       "      <td>27</td>\n",
       "      <td>15</td>\n",
       "      <td>15</td>\n",
       "      <td>15</td>\n",
       "      <td>27</td>\n",
       "    </tr>\n",
       "    <tr>\n",
       "      <th>PS PB EAV IVR OTC &amp; Rest (M)</th>\n",
       "      <td>76</td>\n",
       "      <td>76</td>\n",
       "      <td>29</td>\n",
       "      <td>29</td>\n",
       "      <td>29</td>\n",
       "      <td>76</td>\n",
       "    </tr>\n",
       "    <tr>\n",
       "      <th>PS PB EAV IVR RX (M)</th>\n",
       "      <td>59</td>\n",
       "      <td>59</td>\n",
       "      <td>32</td>\n",
       "      <td>32</td>\n",
       "      <td>32</td>\n",
       "      <td>59</td>\n",
       "    </tr>\n",
       "    <tr>\n",
       "      <th>PS PB SAE DE IVR Kosmetik (M)</th>\n",
       "      <td>106</td>\n",
       "      <td>106</td>\n",
       "      <td>69</td>\n",
       "      <td>69</td>\n",
       "      <td>69</td>\n",
       "      <td>105</td>\n",
       "    </tr>\n",
       "    <tr>\n",
       "      <th>PS PB SAE DE IVR NEM (M)</th>\n",
       "      <td>361</td>\n",
       "      <td>361</td>\n",
       "      <td>256</td>\n",
       "      <td>256</td>\n",
       "      <td>256</td>\n",
       "      <td>361</td>\n",
       "    </tr>\n",
       "    <tr>\n",
       "      <th>PS PB SAE DE IVR OTC &amp; Rest (M)</th>\n",
       "      <td>767</td>\n",
       "      <td>767</td>\n",
       "      <td>523</td>\n",
       "      <td>524</td>\n",
       "      <td>524</td>\n",
       "      <td>759</td>\n",
       "    </tr>\n",
       "    <tr>\n",
       "      <th>PS PB SAE DE IVR RX (M)</th>\n",
       "      <td>596</td>\n",
       "      <td>596</td>\n",
       "      <td>405</td>\n",
       "      <td>405</td>\n",
       "      <td>405</td>\n",
       "      <td>594</td>\n",
       "    </tr>\n",
       "  </tbody>\n",
       "</table>\n",
       "</div>"
      ],
      "text/plain": [
       "                                  id  recording  sentiment  summary  topics  \\\n",
       "number_name                                                                   \n",
       "CS Experts DE                      1          1          0        0       0   \n",
       "PS PB EAV IVR Kosmetik (M)         7          7          2        2       2   \n",
       "PS PB EAV IVR NEM (M)             27         27         15       15      15   \n",
       "PS PB EAV IVR OTC & Rest (M)      76         76         29       29      29   \n",
       "PS PB EAV IVR RX (M)              59         59         32       32      32   \n",
       "PS PB SAE DE IVR Kosmetik (M)    106        106         69       69      69   \n",
       "PS PB SAE DE IVR NEM (M)         361        361        256      256     256   \n",
       "PS PB SAE DE IVR OTC & Rest (M)  767        767        523      524     524   \n",
       "PS PB SAE DE IVR RX (M)          596        596        405      405     405   \n",
       "\n",
       "                                 transcription  \n",
       "number_name                                     \n",
       "CS Experts DE                                1  \n",
       "PS PB EAV IVR Kosmetik (M)                   7  \n",
       "PS PB EAV IVR NEM (M)                       27  \n",
       "PS PB EAV IVR OTC & Rest (M)                76  \n",
       "PS PB EAV IVR RX (M)                        59  \n",
       "PS PB SAE DE IVR Kosmetik (M)              105  \n",
       "PS PB SAE DE IVR NEM (M)                   361  \n",
       "PS PB SAE DE IVR OTC & Rest (M)            759  \n",
       "PS PB SAE DE IVR RX (M)                    594  "
      ]
     },
     "execution_count": 7,
     "metadata": {},
     "output_type": "execute_result"
    }
   ],
   "source": [
    "calls_df.pivot_table(\n",
    "    values=[\"id\", \"recording\", \"transcription\", \"summary\", \"topics\", \"sentiment\"],\n",
    "    index=[\"number_name\"],\n",
    "    aggfunc={\n",
    "        \"id\": \"count\",\n",
    "        \"recording\": \"count\",\n",
    "        \"transcription\": \"count\",\n",
    "        \"summary\": \"count\",\n",
    "        \"topics\": \"count\",\n",
    "        \"sentiment\": \"count\",\n",
    "    },\n",
    "    observed=False,\n",
    ")"
   ]
  },
  {
   "cell_type": "markdown",
   "metadata": {},
   "source": [
    "Note here that even though all calls have a recording, not all of them have a transcription, summary, sentiment, and topics."
   ]
  },
  {
   "cell_type": "code",
   "execution_count": 8,
   "metadata": {
    "execution": {
     "iopub.execute_input": "2025-05-11T15:42:05.919141Z",
     "iopub.status.busy": "2025-05-11T15:42:05.919066Z",
     "iopub.status.idle": "2025-05-11T15:42:06.292407Z",
     "shell.execute_reply": "2025-05-11T15:42:06.292098Z"
    }
   },
   "outputs": [
    {
     "data": {
      "image/png": "[encoded data removed]",
      "text/plain": [
       "<Figure size 1000x500 with 1 Axes>"
      ]
     },
     "metadata": {},
     "output_type": "display_data"
    }
   ],
   "source": [
    "calls_per_day = calls_df.groupby(calls_df[\"started_at\"].dt.date).size()\n",
    "\n",
    "plt.figure(figsize=(10, 5))\n",
    "calls_per_day.plot(kind='bar', color='black', edgecolor='black')\n",
    "\n",
    "plt.xlabel(\"Date\")\n",
    "plt.ylabel(\"Number of Calls\")\n",
    "plt.title(\"Sampled Number of Calls Per Day\")\n",
    "plt.xticks(rotation=75)\n",
    "plt.grid(axis=\"y\", linestyle=\"--\", alpha=0.7)\n",
    "\n",
    "# Show the plot\n",
    "plt.show()"
   ]
  },
  {
   "cell_type": "markdown",
   "metadata": {},
   "source": [
    "## Call Duration"
   ]
  },
  {
   "cell_type": "code",
   "execution_count": 9,
   "metadata": {
    "execution": {
     "iopub.execute_input": "2025-05-11T15:42:06.293795Z",
     "iopub.status.busy": "2025-05-11T15:42:06.293678Z",
     "iopub.status.idle": "2025-05-11T15:42:06.297244Z",
     "shell.execute_reply": "2025-05-11T15:42:06.297002Z"
    }
   },
   "outputs": [
    {
     "data": {
      "text/plain": [
       "count    2000.000000\n",
       "mean      507.913500\n",
       "std       350.437614\n",
       "min        22.000000\n",
       "25%       285.000000\n",
       "50%       419.500000\n",
       "75%       618.000000\n",
       "max      3987.000000\n",
       "Name: duration, dtype: float64"
      ]
     },
     "execution_count": 9,
     "metadata": {},
     "output_type": "execute_result"
    }
   ],
   "source": [
    "calls_df.duration.describe()"
   ]
  },
  {
   "cell_type": "code",
   "execution_count": 10,
   "metadata": {
    "execution": {
     "iopub.execute_input": "2025-05-11T15:42:06.298393Z",
     "iopub.status.busy": "2025-05-11T15:42:06.298300Z",
     "iopub.status.idle": "2025-05-11T15:42:06.346912Z",
     "shell.execute_reply": "2025-05-11T15:42:06.346699Z"
    }
   },
   "outputs": [
    {
     "data": {
      "image/png": "[encoded data removed]",
      "text/plain": [
       "<Figure size 1000x500 with 1 Axes>"
      ]
     },
     "metadata": {},
     "output_type": "display_data"
    }
   ],
   "source": [
    "# Plot histogram of call durations\n",
    "plt.figure(figsize=(10, 5))\n",
    "plt.hist(calls_df['duration'], bins=20, color='black', edgecolor='white')\n",
    "\n",
    "plt.xlabel(\"Call Duration (seconds)\")\n",
    "plt.ylabel(\"Frequency\")\n",
    "plt.title(\"Histogram of Call Durations\")\n",
    "plt.grid(axis=\"y\", linestyle=\"--\", alpha=0.7)\n",
    "\n",
    "# Show the plot\n",
    "plt.show()"
   ]
  },
  {
   "cell_type": "code",
   "execution_count": 11,
   "metadata": {
    "execution": {
     "iopub.execute_input": "2025-05-11T15:42:06.347896Z",
     "iopub.status.busy": "2025-05-11T15:42:06.347826Z",
     "iopub.status.idle": "2025-05-11T15:42:06.414553Z",
     "shell.execute_reply": "2025-05-11T15:42:06.414287Z"
    }
   },
   "outputs": [
    {
     "name": "stderr",
     "output_type": "stream",
     "text": [
      "/var/folders/qq/7j8twb6x4gs6hm5j39l3pp840000gn/T/ipykernel_5763/3990906056.py:2: FutureWarning: \n",
      "\n",
      "Passing `palette` without assigning `hue` is deprecated and will be removed in v0.14.0. Assign the `x` variable to `hue` and set `legend=False` for the same effect.\n",
      "\n",
      "  sns.boxplot(x=calls_df[\"day_of_week\"], y=calls_df[\"duration\"], palette=[\"black\"]*7, fill=False)\n"
     ]
    },
    {
     "data": {
      "image/png": "[encoded data removed]",
      "text/plain": [
       "<Figure size 1000x800 with 1 Axes>"
      ]
     },
     "metadata": {},
     "output_type": "display_data"
    }
   ],
   "source": [
    "plt.figure(figsize=(10, 8))\n",
    "sns.boxplot(x=calls_df[\"day_of_week\"], y=calls_df[\"duration\"], palette=[\"black\"]*7, fill=False)\n",
    "\n",
    "plt.xlabel(\"Call Duration (seconds)\")\n",
    "plt.ylabel(\"Duration\")\n",
    "plt.title(\"Boxplot of Call Durations by Day of the Week\")\n",
    "plt.grid(axis=\"y\", linestyle=\"--\", alpha=0.7)\n",
    "\n",
    "plt.show()"
   ]
  },
  {
   "cell_type": "markdown",
   "metadata": {},
   "source": [
    "## Conversational Intelligence"
   ]
  },
  {
   "cell_type": "code",
   "execution_count": 12,
   "metadata": {
    "execution": {
     "iopub.execute_input": "2025-05-11T15:42:06.415724Z",
     "iopub.status.busy": "2025-05-11T15:42:06.415624Z",
     "iopub.status.idle": "2025-05-11T15:42:06.419379Z",
     "shell.execute_reply": "2025-05-11T15:42:06.419176Z"
    }
   },
   "outputs": [
    {
     "data": {
      "text/plain": [
       "count     1989.000000\n",
       "mean      1419.624183\n",
       "std       1193.892682\n",
       "min          4.000000\n",
       "25%        644.500000\n",
       "50%       1093.250000\n",
       "75%       1801.750000\n",
       "max      10580.750000\n",
       "Name: token_estimate_transcription, dtype: float64"
      ]
     },
     "execution_count": 12,
     "metadata": {},
     "output_type": "execute_result"
    }
   ],
   "source": [
    "calls_df[calls_df[\"token_estimate_transcription\"] != 0][\"token_estimate_transcription\"].describe()"
   ]
  },
  {
   "cell_type": "code",
   "execution_count": 13,
   "metadata": {
    "execution": {
     "iopub.execute_input": "2025-05-11T15:42:06.420431Z",
     "iopub.status.busy": "2025-05-11T15:42:06.420343Z",
     "iopub.status.idle": "2025-05-11T15:42:06.423430Z",
     "shell.execute_reply": "2025-05-11T15:42:06.423261Z"
    }
   },
   "outputs": [
    {
     "data": {
      "text/plain": [
       "count     1989.000000\n",
       "mean      1419.624183\n",
       "std       1193.892682\n",
       "min          4.000000\n",
       "25%        644.500000\n",
       "50%       1093.250000\n",
       "75%       1801.750000\n",
       "max      10580.750000\n",
       "Name: token_estimate_transcription, dtype: float64"
      ]
     },
     "execution_count": 13,
     "metadata": {},
     "output_type": "execute_result"
    }
   ],
   "source": [
    "calls_df[calls_df[\"token_estimate_transcription\"] != 0][\"token_estimate_transcription\"].describe()"
   ]
  },
  {
   "cell_type": "code",
   "execution_count": 14,
   "metadata": {
    "execution": {
     "iopub.execute_input": "2025-05-11T15:42:06.424399Z",
     "iopub.status.busy": "2025-05-11T15:42:06.424317Z",
     "iopub.status.idle": "2025-05-11T15:42:06.427375Z",
     "shell.execute_reply": "2025-05-11T15:42:06.427190Z"
    }
   },
   "outputs": [
    {
     "data": {
      "text/plain": [
       "count    1332.000000\n",
       "mean      106.951577\n",
       "std        25.276099\n",
       "min        42.000000\n",
       "25%        88.750000\n",
       "50%       105.250000\n",
       "75%       122.500000\n",
       "max       196.250000\n",
       "Name: token_estimate_summary, dtype: float64"
      ]
     },
     "execution_count": 14,
     "metadata": {},
     "output_type": "execute_result"
    }
   ],
   "source": [
    "calls_df[calls_df[\"token_estimate_summary\"] != 0][\"token_estimate_summary\"].describe()"
   ]
  },
  {
   "cell_type": "code",
   "execution_count": 15,
   "metadata": {
    "execution": {
     "iopub.execute_input": "2025-05-11T15:42:06.428320Z",
     "iopub.status.busy": "2025-05-11T15:42:06.428242Z",
     "iopub.status.idle": "2025-05-11T15:42:06.431206Z",
     "shell.execute_reply": "2025-05-11T15:42:06.431027Z"
    }
   },
   "outputs": [
    {
     "data": {
      "text/plain": [
       "count    1332.000000\n",
       "mean       27.225976\n",
       "std         4.292123\n",
       "min        15.250000\n",
       "25%        24.250000\n",
       "50%        27.000000\n",
       "75%        30.000000\n",
       "max        50.500000\n",
       "Name: token_estimate_topics, dtype: float64"
      ]
     },
     "execution_count": 15,
     "metadata": {},
     "output_type": "execute_result"
    }
   ],
   "source": [
    "calls_df[calls_df[\"token_estimate_topics\"] != 0][\"token_estimate_topics\"].describe()"
   ]
  }
 ],
 "metadata": {
  "language_info": {
   "codemirror_mode": {
    "name": "ipython",
    "version": 3
   },
   "file_extension": ".py",
   "mimetype": "text/x-python",
   "name": "python",
   "nbconvert_exporter": "python",
   "pygments_lexer": "ipython3",
   "version": "3.10.11"
  }
 },
 "nbformat": 4,
 "nbformat_minor": 2
}
