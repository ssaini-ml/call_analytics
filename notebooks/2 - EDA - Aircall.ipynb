{
 "cells": [
  {
   "cell_type": "code",
   "execution_count": null,
   "metadata": {},
   "outputs": [],
   "source": [
    "%cd .."
   ]
  },
  {
   "cell_type": "code",
   "execution_count": null,
   "metadata": {},
   "outputs": [],
   "source": [
    "from datetime import datetime, timezone\n",
    "\n",
    "import matplotlib.pyplot as plt\n",
    "import pandas as pd\n",
    "import pytz\n",
    "import seaborn as sns\n",
    "\n",
    "from src.settings import PATH_AIRCALL_PROCESSED"
   ]
  },
  {
   "cell_type": "markdown",
   "metadata": {},
   "source": [
    "# 2 - Exploratory Data Analysis - Aircall\n",
    "\n",
    "This notebook aims to explore and understand the structure, distribution, and key characteristics of the call data retrieved from Aircall. The goal of this analysis is to identify patterns, detect anomalies, and prepare the data for further processing and modeling."
   ]
  },
  {
   "cell_type": "code",
   "execution_count": null,
   "metadata": {},
   "outputs": [],
   "source": [
    "### Specify the following variables ###\n",
    "INPUT_FILE = f\"{PATH_AIRCALL_PROCESSED}/20250113_20250212_CS.csv\" # Just edit the filename. Directory is handled by the environment variable\n",
    "#######################################"
   ]
  },
  {
   "cell_type": "markdown",
   "metadata": {},
   "source": [
    "## Load data"
   ]
  },
  {
   "cell_type": "code",
   "execution_count": null,
   "metadata": {},
   "outputs": [],
   "source": [
    "calls_df = pd.read_csv(INPUT_FILE, encoding=\"latin-1\")"
   ]
  },
  {
   "cell_type": "markdown",
   "metadata": {},
   "source": [
    "## Descriptive Statistics\n",
    "\n",
    "### Overview & Summary"
   ]
  },
  {
   "cell_type": "code",
   "execution_count": null,
   "metadata": {},
   "outputs": [],
   "source": [
    "# Not all calls have a transcription, summary, topics, or sentiment. Replacing the PII artifact of that here with NA\n",
    "calls_df.replace(\"Error: Document text is empty.\", pd.NA, inplace=True)\n",
    "\n",
    "# Converting the timestamp columns to datetime objects\n",
    "for col in [\"started_at\", \"answered_at\", \"ended_at\"]:\n",
    "    calls_df[col] = calls_df[col].apply(\n",
    "        lambda x: (\n",
    "            datetime.fromtimestamp(int(x), tz=timezone.utc).astimezone(\n",
    "                pytz.timezone(\"Europe/Berlin\")\n",
    "            )\n",
    "            if pd.notna(x)\n",
    "            else pd.NA\n",
    "        )\n",
    "    )\n",
    "\n",
    "calls_df[\"day_of_week\"] = calls_df[\"started_at\"].dt.day_name()\n",
    "calls_df.day_of_week = pd.Categorical(\n",
    "    calls_df.day_of_week,\n",
    "    categories=[\n",
    "        \"Monday\",\n",
    "        \"Tuesday\",\n",
    "        \"Wednesday\",\n",
    "        \"Thursday\",\n",
    "        \"Friday\",\n",
    "        \"Saturday\",\n",
    "        \"Sunday\",\n",
    "    ],\n",
    "    ordered=True,\n",
    ")\n",
    "\n",
    "for ci_feature in [\"transcription\", \"summary\", \"topics\"]:\n",
    "    # Using OpenAI rule of thumb of 1 token per 4 characters: https://help.openai.com/en/articles/4936856-what-are-tokens-and-how-to-count-them\n",
    "    calls_df[f\"token_estimate_{ci_feature}\"] = calls_df[ci_feature].apply(lambda x: len(x)/4 if pd.notna(x) else 0)\n",
    "\n",
    "calls_df.info()"
   ]
  },
  {
   "cell_type": "markdown",
   "metadata": {},
   "source": [
    "What does the data look like?"
   ]
  },
  {
   "cell_type": "code",
   "execution_count": null,
   "metadata": {},
   "outputs": [],
   "source": [
    "calls_df.head()"
   ]
  },
  {
   "cell_type": "markdown",
   "metadata": {},
   "source": [
    "## Call Volume"
   ]
  },
  {
   "cell_type": "code",
   "execution_count": null,
   "metadata": {},
   "outputs": [],
   "source": [
    "calls_df.pivot_table(\n",
    "    values=[\"id\", \"recording\", \"transcription\", \"summary\", \"topics\", \"sentiment\"],\n",
    "    index=[\"number_name\"],\n",
    "    aggfunc={\n",
    "        \"id\": \"count\",\n",
    "        \"recording\": \"count\",\n",
    "        \"transcription\": \"count\",\n",
    "        \"summary\": \"count\",\n",
    "        \"topics\": \"count\",\n",
    "        \"sentiment\": \"count\",\n",
    "    },\n",
    "    observed=False\n",
    ")"
   ]
  },
  {
   "cell_type": "markdown",
   "metadata": {},
   "source": [
    "Note here that even though all calls have a recording, not all of them have a transcription, summary, sentiment, and topics."
   ]
  },
  {
   "cell_type": "code",
   "execution_count": null,
   "metadata": {},
   "outputs": [],
   "source": [
    "calls_per_day = calls_df.groupby(calls_df[\"started_at\"].dt.date).size()\n",
    "\n",
    "plt.figure(figsize=(10, 5))\n",
    "calls_per_day.plot(kind='bar', color='skyblue', edgecolor='black')\n",
    "\n",
    "plt.xlabel(\"Date\")\n",
    "plt.ylabel(\"Number of Calls\")\n",
    "plt.title(\"Number of Calls Per Day\")\n",
    "plt.xticks(rotation=75)\n",
    "plt.grid(axis=\"y\", linestyle=\"--\", alpha=0.7)\n",
    "\n",
    "# Show the plot\n",
    "plt.show()"
   ]
  },
  {
   "cell_type": "markdown",
   "metadata": {},
   "source": [
    "## Call Duration"
   ]
  },
  {
   "cell_type": "code",
   "execution_count": null,
   "metadata": {},
   "outputs": [],
   "source": [
    "calls_df.duration.describe()"
   ]
  },
  {
   "cell_type": "code",
   "execution_count": null,
   "metadata": {},
   "outputs": [],
   "source": [
    "# Plot histogram of call durations\n",
    "plt.figure(figsize=(10, 5))\n",
    "plt.hist(calls_df['duration'], bins=20, color='skyblue', edgecolor='black', alpha=0.7)\n",
    "\n",
    "plt.xlabel(\"Call Duration (seconds)\")\n",
    "plt.ylabel(\"Frequency\")\n",
    "plt.title(\"Histogram of Call Durations\")\n",
    "plt.grid(axis=\"y\", linestyle=\"--\", alpha=0.7)\n",
    "\n",
    "# Show the plot\n",
    "plt.show()"
   ]
  },
  {
   "cell_type": "code",
   "execution_count": null,
   "metadata": {},
   "outputs": [],
   "source": [
    "sns.boxplot(x=calls_df[\"day_of_week\"], y=calls_df[\"duration\"], palette=\"muted\", fill=False)"
   ]
  },
  {
   "cell_type": "markdown",
   "metadata": {},
   "source": [
    "## Conversational Intelligence"
   ]
  },
  {
   "cell_type": "code",
   "execution_count": null,
   "metadata": {},
   "outputs": [],
   "source": [
    "calls_df[[\"token_estimate_transcription\", \"token_estimate_summary\", \"token_estimate_topics\"]].describe()"
   ]
  }
 ],
 "metadata": {
  "kernelspec": {
   "display_name": "redcare-call-analytics",
   "language": "python",
   "name": "redcare-call-analytics"
  },
  "language_info": {
   "codemirror_mode": {
    "name": "ipython",
    "version": 3
   },
   "file_extension": ".py",
   "mimetype": "text/x-python",
   "name": "python",
   "nbconvert_exporter": "python",
   "pygments_lexer": "ipython3",
   "version": "3.12.4"
  }
 },
 "nbformat": 4,
 "nbformat_minor": 2
}
