{
  "cells": [
    {
      "cell_type": "code",
      "execution_count": null,
      "metadata": {},
      "outputs": [],
      "source": [
        "%cd .."
      ]
    },
    {
      "cell_type": "code",
      "execution_count": null,
      "metadata": {},
      "outputs": [],
      "source": [
        "import matplotlib.pyplot as plt\n",
        "import numpy as np\n",
        "import pandas as pd\n",
        "from umap.umap_ import UMAP\n",
        "from sklearn.cluster import KMeans\n",
        "from sklearn.manifold import TSNE\n",
        "\n",
        "from src.openai_utility import authenticate_openai_client\n",
        "from src.settings import PATH_AIRCALL_PROCESSED, PATH_OPENAI_EMBEDDINGS, RANDOM_STATE"
      ]
    },
    {
      "cell_type": "markdown",
      "metadata": {},
      "source": [
        "# 4 - CLUSTERING - OpenAI embeddings\n",
        "\n",
        "This notebook explores document clustering using OpenAI's `text-embedding-3-large` model. By converting text data into high-dimensional embeddings, we apply K-Means clustering to uncover meaningful groupings within the dataset.\n",
        "\n",
        "Once the clusters are formed, we analyze their characteristics by selecting representative examples from each cluster. To enhance interpretability, we use OpenAI's chat completion API to generate descriptive summaries for each cluster, providing insights into the themes present in the dataset.\n",
        "\n",
        "### Objectives\n",
        "- Apply K-Means clustering: Identify meaningful groups within the data based on similarity.\n",
        "- Generate theme descriptions: Use OpenAI’s chat completion API to create human-readable summaries for each cluster."
      ]
    },
    {
      "cell_type": "markdown",
      "metadata": {},
      "source": [
        "## User Input\n",
        "*Note: You will have to choose to number of clusters you want to create in the section [Clustering](#clustering).*"
      ]
    },
    {
      "cell_type": "code",
      "execution_count": null,
      "metadata": {},
      "outputs": [],
      "source": [
        "DEPARTMENT = \"CS\" # \"CS\": Customer Service or \"PS\": Pharma Service\n",
        "FEATURE = \"summary\" # \"summary\" or \"transcription\"\n",
        "DIM_REDUCER = \"UMAP\" # \"t-SNE\" or \"UMAP\"\n",
        "\n",
        "if DEPARTMENT == \"CS\":\n",
        "    INPUT_EMBEDDINGS = f\"{PATH_OPENAI_EMBEDDINGS}/20250113_20250212_CS_{FEATURE}_embeddings_text-embedding-3-large.csv\"\n",
        "    INPUT_TEXT = f\"{PATH_AIRCALL_PROCESSED}/20250113_20250212_CS.csv\"\n",
        "elif DEPARTMENT == \"PS\":\n",
        "    INPUT_EMBEDDINGS = f\"{PATH_OPENAI_EMBEDDINGS}/20250101_20250224_PS_{FEATURE}_embeddings_text-embedding-3-large.csv\"\n",
        "    INPUT_TEXT = f\"{PATH_AIRCALL_PROCESSED}/20250101_20250224_PS.csv\""
      ]
    },
    {
      "cell_type": "markdown",
      "metadata": {},
      "source": [
        "Here we read both the text of interest and the embeddings from file. These were stored to limit the number of calls to Azure OpenAI."
      ]
    },
    {
      "cell_type": "code",
      "execution_count": null,
      "metadata": {},
      "outputs": [],
      "source": [
        "text_df = pd.read_csv(INPUT_TEXT, encoding=\"latin-1\", usecols=[\"id\", FEATURE])\n",
        "embeddings_df = pd.read_csv(INPUT_EMBEDDINGS, encoding=\"utf-8\")\n",
        "embeddings_df.drop(columns=[\"usage\"], inplace=True)\n",
        "\n",
        "df = pd.merge(text_df, embeddings_df, on=\"id\", how=\"inner\")\n",
        "print(f\"Calls with summary embeddings: {df.shape[0]}\")"
      ]
    },
    {
      "cell_type": "markdown",
      "metadata": {},
      "source": [
        "We drop everything here, except for the actual embedding values."
      ]
    },
    {
      "cell_type": "code",
      "execution_count": null,
      "metadata": {},
      "outputs": [],
      "source": [
        "embedding_matrix = df.drop(columns=[\"id\", FEATURE])\n",
        "embedding_matrix = embedding_matrix.to_numpy()\n",
        "embedding_matrix.shape"
      ]
    },
    {
      "cell_type": "markdown",
      "metadata": {},
      "source": [
        "## Clustering\n",
        "\n",
        "The actual clustering is done here. Specify the number of clusters you want as a result below."
      ]
    },
    {
      "cell_type": "code",
      "execution_count": null,
      "metadata": {},
      "outputs": [],
      "source": [
        "n_clusters = 6 # Specify the number of clusters you are interested in here\n",
        "\n",
        "kmeans = KMeans(n_clusters=n_clusters, init=\"k-means++\", random_state=RANDOM_STATE)\n",
        "kmeans.fit(embedding_matrix)\n",
        "labels = kmeans.labels_\n",
        "df[\"cluster\"] = labels\n",
        "\n",
        "df.cluster.value_counts(normalize=True)"
      ]
    },
    {
      "cell_type": "markdown",
      "metadata": {},
      "source": [
        "Let's visualize the results of this clustering. It could show something interesting. This visualization will be done in 2D, since we can't comprehend a whole lot more than that. To make that possible, we need to reduce the feature dimensions from 3072 to 2. This is done here either by using UMAP or t-SNE."
      ]
    },
    {
      "cell_type": "code",
      "execution_count": null,
      "metadata": {},
      "outputs": [],
      "source": [
        "if DIM_REDUCER == \"UMAP\":\n",
        "    umap = UMAP(\n",
        "        n_components=2,\n",
        "        n_neighbors=15,\n",
        "        min_dist=0.1,\n",
        "        random_state=RANDOM_STATE,\n",
        "    )\n",
        "    vis_dims2 = umap.fit_transform(embedding_matrix)\n",
        "elif DIM_REDUCER == \"t-SNE\":\n",
        "    tsne = TSNE(\n",
        "        n_components=2,\n",
        "        perplexity=15,\n",
        "        random_state=RANDOM_STATE,\n",
        "        init=\"random\",\n",
        "        learning_rate=200,\n",
        "    )\n",
        "    vis_dims2 = tsne.fit_transform(embedding_matrix)\n",
        "\n",
        "x = [x for x, y in vis_dims2]\n",
        "y = [y for x, y in vis_dims2]\n",
        "\n",
        "# List of 25 colors, generated using https://medialab.github.io/iwanthue/. If you need more, generate more.\n",
        "colors = [\n",
        "    \"#c691cc\",\n",
        "    \"#73d446\",\n",
        "    \"#6a41c8\",\n",
        "    \"#d1de4f\",\n",
        "    \"#c44fc9\",\n",
        "    \"#6fce7e\",\n",
        "    \"#c8488b\",\n",
        "    \"#7bdcc5\",\n",
        "    \"#d24426\",\n",
        "    \"#667acf\",\n",
        "    \"#d9ad3b\",\n",
        "    \"#4a2a6c\",\n",
        "    \"#8b963a\",\n",
        "    \"#c64152\",\n",
        "    \"#6cb3d2\",\n",
        "    \"#cf7d39\",\n",
        "    \"#5b6380\",\n",
        "    \"#cfc890\",\n",
        "    \"#642739\",\n",
        "    \"#43672d\",\n",
        "    \"#d18984\",\n",
        "    \"#31322c\",\n",
        "    \"#cbc5c9\",\n",
        "    \"#7f5432\",\n",
        "    \"#5d8975\",\n",
        "]\n",
        "\n",
        "plt.figure(figsize=(12, 12))\n",
        "for category, color in enumerate(colors[:n_clusters]):\n",
        "    xs = np.array(x)[df.cluster == category]\n",
        "    ys = np.array(y)[df.cluster == category]\n",
        "    plt.scatter(xs, ys, color=color, alpha=0.3)\n",
        "\n",
        "    avg_x = xs.mean()\n",
        "    avg_y = ys.mean()\n",
        "\n",
        "    plt.scatter(avg_x, avg_y, marker=\"x\", color=color, s=100)\n",
        "plt.title(f\"Clusters identified visualized in 2D using {DIM_REDUCER}\")"
      ]
    },
    {
      "cell_type": "markdown",
      "metadata": {},
      "source": [
        "## Naming the clusters\n",
        "\n",
        "We're taking some random samples from each cluster here. We then use `gpt-4o` to name the clusters based on those examples."
      ]
    },
    {
      "cell_type": "code",
      "execution_count": null,
      "metadata": {},
      "outputs": [],
      "source": [
        "client = authenticate_openai_client()\n",
        "\n",
        "# Reading a review which belong to each group.\n",
        "summary_per_cluster = 5\n",
        "\n",
        "for i in range(n_clusters):\n",
        "    print(f\"Cluster {i}: {df.cluster.value_counts(normalize=True).get(i):.2%} of calls\\nTheme:\", end=\" \")\n",
        "\n",
        "    reviews = \"\\n\".join(\n",
        "        df[df.cluster == i]\n",
        "        .summary.sample(summary_per_cluster, random_state=RANDOM_STATE, replace=True)\n",
        "        .values\n",
        "    )\n",
        "\n",
        "    messages = [\n",
        "        {\n",
        "            \"role\": \"user\",\n",
        "            \"content\": f'What do these pieces of text describing customer service interactions have in common content-wise? Describe the theme in maximally 50 words. Focus on the essentials.\\n\\nTexts:\\n\"\"\"\\n{reviews}\\n\"\"\"\\n\\nTheme:',\n",
        "        }\n",
        "    ]\n",
        "\n",
        "    response = client.chat.completions.create(\n",
        "        model=\"gpt-4o\",\n",
        "        messages=messages,\n",
        "        temperature=0,\n",
        "        max_tokens=256,\n",
        "        top_p=1,\n",
        "        frequency_penalty=0,\n",
        "        presence_penalty=0,\n",
        "    )\n",
        "    print(f\"{response.choices[0].message.content.replace('\\n', '')}\\n\")\n",
        "\n",
        "    sample_cluster_rows = df[df.cluster == i].sample(\n",
        "        summary_per_cluster, random_state=RANDOM_STATE, replace=True\n",
        "    )\n",
        "    for j in range(summary_per_cluster):\n",
        "        print(sample_cluster_rows[FEATURE].values[j])\n",
        "\n",
        "    print(\"-\" * 100)"
      ]
    }
  ],
  "metadata": {
    "kernelspec": {
      "display_name": "Embeddings (Python 3.12)",
      "language": "python",
      "name": "embeddings_env"
    },
    "language_info": {
      "codemirror_mode": {
        "name": "ipython",
        "version": 3
      },
      "file_extension": ".py",
      "mimetype": "text/x-python",
      "name": "python",
      "nbconvert_exporter": "python",
      "pygments_lexer": "ipython3",
      "version": "3.12.4"
    }
  },
  "nbformat": 4,
  "nbformat_minor": 2
}
