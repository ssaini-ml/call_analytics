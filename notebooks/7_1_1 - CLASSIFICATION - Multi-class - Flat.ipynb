{
  "cells": [
    {
      "cell_type": "code",
      "execution_count": null,
      "metadata": {},
      "outputs": [],
      "source": [
        "%cd .."
      ]
    },
    {
      "cell_type": "code",
      "execution_count": null,
      "metadata": {},
      "outputs": [],
      "source": [
        "import warnings\n",
        "\n",
        "import pandas as pd\n",
        "from hiclass import FlatClassifier\n",
        "from sklearn.svm import SVC\n",
        "\n",
        "from src.hierarchical_evaluation import evaluation_report\n",
        "from src.settings import PATH_LABELED, PATH_OPENAI_EMBEDDINGS, RANDOM_STATE\n",
        "\n",
        "warnings.filterwarnings(\"ignore\")"
      ]
    },
    {
      "cell_type": "markdown",
      "metadata": {},
      "source": [
        "# 7_2_1_1 - Classification - Multi-class - Hierarchical - Original Hierarchy"
      ]
    },
    {
      "cell_type": "code",
      "execution_count": null,
      "metadata": {},
      "outputs": [],
      "source": [
        "DEPARTMENT = \"PS\" # \"CS\" or \"PS\"\n",
        "FEATURE = \"summary_customer_only\" # \"transcription\", \"summary\", \"topics\", \"transcription_customer_only\", \"summary_customer_only\"\n",
        "\n",
        "if DEPARTMENT == \"CS\":\n",
        "    FILE_PREFIX = \"20250113_20250212_CS_\"\n",
        "elif DEPARTMENT == \"PS\":\n",
        "    FILE_PREFIX = \"20250101_20250224_PS_\""
      ]
    },
    {
      "cell_type": "markdown",
      "metadata": {},
      "source": [
        "## Load Data"
      ]
    },
    {
      "cell_type": "code",
      "execution_count": null,
      "metadata": {},
      "outputs": [],
      "source": [
        "df_labeled_train = pd.read_csv(f\"{PATH_LABELED}/labeled_train_{DEPARTMENT}.csv\")\n",
        "df_labeled_test = pd.read_csv(f\"{PATH_LABELED}/labeled_test_{DEPARTMENT}.csv\")\n",
        "if FEATURE in [\"transcription\", \"summary\", \"topics\"]:\n",
        "    df_embeddings = pd.read_csv(f\"{PATH_OPENAI_EMBEDDINGS}/{FILE_PREFIX}{FEATURE}_embeddings_text-embedding-3-large.csv\")\n",
        "else:\n",
        "    df_embeddings = pd.read_csv(f\"{PATH_OPENAI_EMBEDDINGS}/{FILE_PREFIX}addedfeatures_{FEATURE}_embeddings_text-embedding-3-large.csv\")"
      ]
    },
    {
      "cell_type": "code",
      "execution_count": null,
      "metadata": {},
      "outputs": [],
      "source": [
        "df_labeled = pd.concat([df_labeled_train, df_labeled_test], ignore_index=True)\n",
        "df_text = pd.read_csv(\"data/aircall/processed/20250101_20250224_PS.csv\", encoding='latin-1')\n",
        "df_out = pd.merge(df_labeled, df_text, on=\"id\")"
      ]
    },
    {
      "cell_type": "code",
      "execution_count": null,
      "metadata": {},
      "outputs": [],
      "source": [
        "df_out.to_excel(f\"data/aircall/processed/PS_labeled_data.xlsx\")"
      ]
    },
    {
      "cell_type": "markdown",
      "metadata": {},
      "source": [
        "For this experiment, we will only keep the Calls that got exactly one label during labeling."
      ]
    },
    {
      "cell_type": "code",
      "execution_count": null,
      "metadata": {},
      "outputs": [],
      "source": [
        "print(f\"Number of rows in embeddings: {df_labeled_train.shape[0]}\")\n",
        "\n",
        "# Since something could have gone wrong in preprocessing, we will only keep the embeddings that are in the labeled data\n",
        "df_labeled_train = df_labeled_train.merge(df_embeddings, on=\"id\", how=\"inner\")\n",
        "print(f\"Number of rows in embeddings after dropping unlabeled IDs: {df_labeled_train.shape[0]}\")\n",
        "\n",
        "# We need to remove all calls with more than one label as well\n",
        "df_labeled_train = df_labeled_train[df_labeled_train[\"label\"].apply(lambda x: len(x.split(\",\")) == 1)]\n",
        "print(f\"Number of rows in embeddings after dropping calls with more than one label: {df_labeled_train.shape[0]}\")"
      ]
    },
    {
      "cell_type": "code",
      "execution_count": null,
      "metadata": {},
      "outputs": [],
      "source": [
        "print(f\"Number of rows in embeddings: {df_labeled_test.shape[0]}\")\n",
        "\n",
        "# Since something could have gone wrong in preprocessing, we will only keep the embeddings that are in the labeled data\n",
        "df_labeled_test = df_labeled_test.merge(df_embeddings, on=\"id\", how=\"inner\")\n",
        "print(f\"Number of rows in embeddings after dropping unlabeled IDs: {df_labeled_test.shape[0]}\")\n",
        "\n",
        "# We need to remove all calls with more than one label as well\n",
        "df_labeled_test = df_labeled_test[df_labeled_test[\"label\"].apply(lambda x: len(x.split(\",\")) == 1)]\n",
        "print(f\"Number of rows in embeddings after dropping calls with more than one label: {df_labeled_test.shape[0]}\")"
      ]
    },
    {
      "cell_type": "markdown",
      "metadata": {},
      "source": [
        "## Hierarchy Definition\n",
        "\n",
        "In order to make use of the HiClass library, we need to rework our labels a little bit. We need them to be lists with a value for each level in the hierarchy. Moreover, since we have some overlap in our hierarchy (e.g. Order & Delivery below Support, Informational & Transactional), we will make sure to name every level by the full path towards it.\n",
        "\n",
        "![image](../data/images/20250321%20-%20Hierarchies-CS%20-%20Hierarchy.drawio.png)"
      ]
    },
    {
      "cell_type": "code",
      "execution_count": null,
      "metadata": {},
      "outputs": [],
      "source": [
        "def refactor_labels(labels: str):\n",
        "    temp_labels = labels.split(\"/\")\n",
        "    labels = [\"/\".join(temp_labels[:i]) for i in range(1, len(temp_labels) + 1)]\n",
        "    \n",
        "    return labels\n",
        "\n",
        "df_labeled_train[\"label\"] = df_labeled_train[\"label\"].apply(refactor_labels)\n",
        "df_labeled_test[\"label\"] = df_labeled_test[\"label\"].apply(refactor_labels)"
      ]
    },
    {
      "cell_type": "markdown",
      "metadata": {},
      "source": [
        "## Modeling\n",
        "\n",
        "A hierarchical classifier is a supervised machine learning model in which the output labels are organized according to a predefined hierarchical taxonomy. This setup is useful when labels naturally fall into broader and narrower categories — for example, in customer intent classification where general themes can contain more specific subtopics.\n",
        "\n",
        "There are several common strategies for hierarchical classification:\n",
        "- Flat Classifier: A standard multi-class classifier that treats all leaf-level labels as independent classes, ignoring the hierarchical relationships between them. This approach serves as a baseline and is useful for comparing performance without added structural complexity.\n",
        "- Classifier per Node (Local Classifier per Node – LCN): A binary classifier is trained for each node in the hierarchy (excluding the root). At inference time, classification proceeds top-down through the hierarchy, activating child classifiers only if their parent node is predicted as relevant.\n",
        "- Classifier per Parent Node (Local Classifier per Parent Node – LCPN): A multi-class classifier is trained for each parent node to select one of its child nodes. This also follows a top-down traversal and is more efficient than training a binary classifier per node.\n",
        "- Classifier per Level (Local Classifier per Level – LCL): A multi-class classifier is trained for each level of the hierarchy. However, this method is not suitable for our use case due to overlap in level 2 labels, where some classes may belong to different parents or appear at the same depth with different semantics.\n",
        "\n",
        "### Approach Used in This Notebook\n",
        "In this notebook, we will be using the following classification strategy:\n",
        "- A flat multi-class classifier as a baseline, ignoring hierarchical structure."
      ]
    },
    {
      "cell_type": "code",
      "execution_count": null,
      "metadata": {},
      "outputs": [],
      "source": [
        "X_train = df_labeled_train.drop(columns=[\"id\", \"usage\", \"label\"])\n",
        "y_train = df_labeled_train[\"label\"]\n",
        "\n",
        "X_test = df_labeled_test.drop(columns=[\"id\", \"usage\", \"label\"])\n",
        "y_test = df_labeled_test[\"label\"]"
      ]
    },
    {
      "cell_type": "code",
      "execution_count": null,
      "metadata": {},
      "outputs": [],
      "source": [
        "svc = SVC(probability=True, C=1e-1, kernel=\"linear\", random_state=RANDOM_STATE)\n",
        "\n",
        "model = FlatClassifier(local_classifier=svc)"
      ]
    },
    {
      "cell_type": "code",
      "execution_count": null,
      "metadata": {},
      "outputs": [],
      "source": [
        "model.fit(X_train, y_train)"
      ]
    },
    {
      "cell_type": "markdown",
      "metadata": {},
      "source": [
        "### Predictions"
      ]
    },
    {
      "cell_type": "code",
      "execution_count": null,
      "metadata": {},
      "outputs": [],
      "source": [
        "y_train_pred = model.predict(X_train)\n",
        "y_test_pred = model.predict(X_test)"
      ]
    },
    {
      "cell_type": "markdown",
      "metadata": {},
      "source": [
        "### Evaluation"
      ]
    },
    {
      "cell_type": "markdown",
      "metadata": {},
      "source": [
        "#### Train"
      ]
    },
    {
      "cell_type": "code",
      "execution_count": null,
      "metadata": {},
      "outputs": [],
      "source": [
        "evaluation_report(y_train, y_train_pred, show_confusion_matrices=False)"
      ]
    },
    {
      "cell_type": "markdown",
      "metadata": {},
      "source": [
        "#### Test"
      ]
    },
    {
      "cell_type": "code",
      "execution_count": null,
      "metadata": {},
      "outputs": [],
      "source": [
        "evaluation_report(y_test, y_test_pred, show_confusion_matrices=False)"
      ]
    }
  ],
  "metadata": {
    "kernelspec": {
      "display_name": "Embeddings (Python 3.12)",
      "language": "python",
      "name": "embeddings_env"
    },
    "language_info": {
      "codemirror_mode": {
        "name": "ipython",
        "version": 3
      },
      "file_extension": ".py",
      "mimetype": "text/x-python",
      "name": "python",
      "nbconvert_exporter": "python",
      "pygments_lexer": "ipython3",
      "version": "3.12.4"
    }
  },
  "nbformat": 4,
  "nbformat_minor": 2
}
